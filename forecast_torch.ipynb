{
  "nbformat": 4,
  "nbformat_minor": 0,
  "metadata": {
    "colab": {
      "provenance": [],
      "gpuType": "T4"
    },
    "kernelspec": {
      "name": "python3",
      "display_name": "Python 3"
    },
    "language_info": {
      "name": "python"
    },
    "accelerator": "GPU"
  },
  "cells": [
    {
      "cell_type": "markdown",
      "source": [
        "1. импортируем нужные билиотеки"
      ],
      "metadata": {
        "id": "EAMfhDwZrBmC"
      }
    },
    {
      "cell_type": "code",
      "source": [
        "import torch\n",
        "import torch.nn as nn\n",
        "import numpy as np\n",
        "import pandas as pd\n",
        "from torch.utils.data import DataLoader, Dataset\n",
        "import matplotlib.pyplot as plt\n",
        "from sklearn.preprocessing import MinMaxScaler"
      ],
      "metadata": {
        "id": "E_CkmuPHrJNX"
      },
      "execution_count": 1,
      "outputs": []
    },
    {
      "cell_type": "markdown",
      "source": [
        "Загрузка данных из Excel файла"
      ],
      "metadata": {
        "id": "xs0DWTbjrOOu"
      }
    },
    {
      "cell_type": "code",
      "source": [
        "df = pd.read_excel('BST_DataSet.xlsx')\n",
        "df.head()"
      ],
      "metadata": {
        "colab": {
          "base_uri": "https://localhost:8080/",
          "height": 397
        },
        "id": "OAe-IKGJrRQC",
        "outputId": "8fd1f001-ad27-47d9-c62c-8a4d784fec37"
      },
      "execution_count": 2,
      "outputs": [
        {
          "output_type": "execute_result",
          "data": {
            "text/plain": [
              "  Unnamed: 0  Прирост вкладов физических лиц в рублях (млн руб)  \\\n",
              "0 2011-01-01                                           -79049.0   \n",
              "1 2011-02-01                                           180475.0   \n",
              "2 2011-03-01                                           106845.0   \n",
              "3 2011-04-01                                           224890.0   \n",
              "4 2011-05-01                                            45856.0   \n",
              "\n",
              "   Доходность ОФЗ по сроку до 1 года  Ключевая ставка  \\\n",
              "0                           5.244667             7.75   \n",
              "1                           5.144211             8.00   \n",
              "2                           5.021364             8.00   \n",
              "3                           4.558571             8.00   \n",
              "4                           4.795000             8.25   \n",
              "\n",
              "   Ставка по вкладам в долларах до 1 года  \\\n",
              "0                                     2.9   \n",
              "1                                     3.1   \n",
              "2                                     3.1   \n",
              "3                                     2.6   \n",
              "4                                     2.6   \n",
              "\n",
              "   Ставка по вкладам в рублях до 1 года  Нефть марки Юралс, долл./барр  \\\n",
              "0                                   4.5                          96.29   \n",
              "1                                   4.4                         103.96   \n",
              "2                                   4.2                         114.44   \n",
              "3                                   4.1                         123.15   \n",
              "4                                   4.1                         114.46   \n",
              "\n",
              "   Индекс потребительских цен, ед.  М0, млрд руб  М2, млрд руб  \\\n",
              "0                        106.17151        5062.7       20011.9   \n",
              "1                        106.99964        4830.7       19307.7   \n",
              "2                        107.66304        4898.0       19536.7   \n",
              "3                        108.12599        4918.2       19788.7   \n",
              "4                        108.64500        5071.3       20020.8   \n",
              "\n",
              "   Курс доллара к рублю, руб  Номинальная средняя з/п, руб  \n",
              "0                      30.08                         20669  \n",
              "1                      29.29                         20680  \n",
              "2                      28.43                         22673  \n",
              "3                      28.10                         22519  \n",
              "4                      27.87                         22779  "
            ],
            "text/html": [
              "\n",
              "  <div id=\"df-92eb3f50-f2e4-4013-9e3a-b04533509b41\" class=\"colab-df-container\">\n",
              "    <div>\n",
              "<style scoped>\n",
              "    .dataframe tbody tr th:only-of-type {\n",
              "        vertical-align: middle;\n",
              "    }\n",
              "\n",
              "    .dataframe tbody tr th {\n",
              "        vertical-align: top;\n",
              "    }\n",
              "\n",
              "    .dataframe thead th {\n",
              "        text-align: right;\n",
              "    }\n",
              "</style>\n",
              "<table border=\"1\" class=\"dataframe\">\n",
              "  <thead>\n",
              "    <tr style=\"text-align: right;\">\n",
              "      <th></th>\n",
              "      <th>Unnamed: 0</th>\n",
              "      <th>Прирост вкладов физических лиц в рублях (млн руб)</th>\n",
              "      <th>Доходность ОФЗ по сроку до 1 года</th>\n",
              "      <th>Ключевая ставка</th>\n",
              "      <th>Ставка по вкладам в долларах до 1 года</th>\n",
              "      <th>Ставка по вкладам в рублях до 1 года</th>\n",
              "      <th>Нефть марки Юралс, долл./барр</th>\n",
              "      <th>Индекс потребительских цен, ед.</th>\n",
              "      <th>М0, млрд руб</th>\n",
              "      <th>М2, млрд руб</th>\n",
              "      <th>Курс доллара к рублю, руб</th>\n",
              "      <th>Номинальная средняя з/п, руб</th>\n",
              "    </tr>\n",
              "  </thead>\n",
              "  <tbody>\n",
              "    <tr>\n",
              "      <th>0</th>\n",
              "      <td>2011-01-01</td>\n",
              "      <td>-79049.0</td>\n",
              "      <td>5.244667</td>\n",
              "      <td>7.75</td>\n",
              "      <td>2.9</td>\n",
              "      <td>4.5</td>\n",
              "      <td>96.29</td>\n",
              "      <td>106.17151</td>\n",
              "      <td>5062.7</td>\n",
              "      <td>20011.9</td>\n",
              "      <td>30.08</td>\n",
              "      <td>20669</td>\n",
              "    </tr>\n",
              "    <tr>\n",
              "      <th>1</th>\n",
              "      <td>2011-02-01</td>\n",
              "      <td>180475.0</td>\n",
              "      <td>5.144211</td>\n",
              "      <td>8.00</td>\n",
              "      <td>3.1</td>\n",
              "      <td>4.4</td>\n",
              "      <td>103.96</td>\n",
              "      <td>106.99964</td>\n",
              "      <td>4830.7</td>\n",
              "      <td>19307.7</td>\n",
              "      <td>29.29</td>\n",
              "      <td>20680</td>\n",
              "    </tr>\n",
              "    <tr>\n",
              "      <th>2</th>\n",
              "      <td>2011-03-01</td>\n",
              "      <td>106845.0</td>\n",
              "      <td>5.021364</td>\n",
              "      <td>8.00</td>\n",
              "      <td>3.1</td>\n",
              "      <td>4.2</td>\n",
              "      <td>114.44</td>\n",
              "      <td>107.66304</td>\n",
              "      <td>4898.0</td>\n",
              "      <td>19536.7</td>\n",
              "      <td>28.43</td>\n",
              "      <td>22673</td>\n",
              "    </tr>\n",
              "    <tr>\n",
              "      <th>3</th>\n",
              "      <td>2011-04-01</td>\n",
              "      <td>224890.0</td>\n",
              "      <td>4.558571</td>\n",
              "      <td>8.00</td>\n",
              "      <td>2.6</td>\n",
              "      <td>4.1</td>\n",
              "      <td>123.15</td>\n",
              "      <td>108.12599</td>\n",
              "      <td>4918.2</td>\n",
              "      <td>19788.7</td>\n",
              "      <td>28.10</td>\n",
              "      <td>22519</td>\n",
              "    </tr>\n",
              "    <tr>\n",
              "      <th>4</th>\n",
              "      <td>2011-05-01</td>\n",
              "      <td>45856.0</td>\n",
              "      <td>4.795000</td>\n",
              "      <td>8.25</td>\n",
              "      <td>2.6</td>\n",
              "      <td>4.1</td>\n",
              "      <td>114.46</td>\n",
              "      <td>108.64500</td>\n",
              "      <td>5071.3</td>\n",
              "      <td>20020.8</td>\n",
              "      <td>27.87</td>\n",
              "      <td>22779</td>\n",
              "    </tr>\n",
              "  </tbody>\n",
              "</table>\n",
              "</div>\n",
              "    <div class=\"colab-df-buttons\">\n",
              "\n",
              "  <div class=\"colab-df-container\">\n",
              "    <button class=\"colab-df-convert\" onclick=\"convertToInteractive('df-92eb3f50-f2e4-4013-9e3a-b04533509b41')\"\n",
              "            title=\"Convert this dataframe to an interactive table.\"\n",
              "            style=\"display:none;\">\n",
              "\n",
              "  <svg xmlns=\"http://www.w3.org/2000/svg\" height=\"24px\" viewBox=\"0 -960 960 960\">\n",
              "    <path d=\"M120-120v-720h720v720H120Zm60-500h600v-160H180v160Zm220 220h160v-160H400v160Zm0 220h160v-160H400v160ZM180-400h160v-160H180v160Zm440 0h160v-160H620v160ZM180-180h160v-160H180v160Zm440 0h160v-160H620v160Z\"/>\n",
              "  </svg>\n",
              "    </button>\n",
              "\n",
              "  <style>\n",
              "    .colab-df-container {\n",
              "      display:flex;\n",
              "      gap: 12px;\n",
              "    }\n",
              "\n",
              "    .colab-df-convert {\n",
              "      background-color: #E8F0FE;\n",
              "      border: none;\n",
              "      border-radius: 50%;\n",
              "      cursor: pointer;\n",
              "      display: none;\n",
              "      fill: #1967D2;\n",
              "      height: 32px;\n",
              "      padding: 0 0 0 0;\n",
              "      width: 32px;\n",
              "    }\n",
              "\n",
              "    .colab-df-convert:hover {\n",
              "      background-color: #E2EBFA;\n",
              "      box-shadow: 0px 1px 2px rgba(60, 64, 67, 0.3), 0px 1px 3px 1px rgba(60, 64, 67, 0.15);\n",
              "      fill: #174EA6;\n",
              "    }\n",
              "\n",
              "    .colab-df-buttons div {\n",
              "      margin-bottom: 4px;\n",
              "    }\n",
              "\n",
              "    [theme=dark] .colab-df-convert {\n",
              "      background-color: #3B4455;\n",
              "      fill: #D2E3FC;\n",
              "    }\n",
              "\n",
              "    [theme=dark] .colab-df-convert:hover {\n",
              "      background-color: #434B5C;\n",
              "      box-shadow: 0px 1px 3px 1px rgba(0, 0, 0, 0.15);\n",
              "      filter: drop-shadow(0px 1px 2px rgba(0, 0, 0, 0.3));\n",
              "      fill: #FFFFFF;\n",
              "    }\n",
              "  </style>\n",
              "\n",
              "    <script>\n",
              "      const buttonEl =\n",
              "        document.querySelector('#df-92eb3f50-f2e4-4013-9e3a-b04533509b41 button.colab-df-convert');\n",
              "      buttonEl.style.display =\n",
              "        google.colab.kernel.accessAllowed ? 'block' : 'none';\n",
              "\n",
              "      async function convertToInteractive(key) {\n",
              "        const element = document.querySelector('#df-92eb3f50-f2e4-4013-9e3a-b04533509b41');\n",
              "        const dataTable =\n",
              "          await google.colab.kernel.invokeFunction('convertToInteractive',\n",
              "                                                    [key], {});\n",
              "        if (!dataTable) return;\n",
              "\n",
              "        const docLinkHtml = 'Like what you see? Visit the ' +\n",
              "          '<a target=\"_blank\" href=https://colab.research.google.com/notebooks/data_table.ipynb>data table notebook</a>'\n",
              "          + ' to learn more about interactive tables.';\n",
              "        element.innerHTML = '';\n",
              "        dataTable['output_type'] = 'display_data';\n",
              "        await google.colab.output.renderOutput(dataTable, element);\n",
              "        const docLink = document.createElement('div');\n",
              "        docLink.innerHTML = docLinkHtml;\n",
              "        element.appendChild(docLink);\n",
              "      }\n",
              "    </script>\n",
              "  </div>\n",
              "\n",
              "\n",
              "<div id=\"df-d85507e2-a175-4d7e-ba6c-7da979332991\">\n",
              "  <button class=\"colab-df-quickchart\" onclick=\"quickchart('df-d85507e2-a175-4d7e-ba6c-7da979332991')\"\n",
              "            title=\"Suggest charts\"\n",
              "            style=\"display:none;\">\n",
              "\n",
              "<svg xmlns=\"http://www.w3.org/2000/svg\" height=\"24px\"viewBox=\"0 0 24 24\"\n",
              "     width=\"24px\">\n",
              "    <g>\n",
              "        <path d=\"M19 3H5c-1.1 0-2 .9-2 2v14c0 1.1.9 2 2 2h14c1.1 0 2-.9 2-2V5c0-1.1-.9-2-2-2zM9 17H7v-7h2v7zm4 0h-2V7h2v10zm4 0h-2v-4h2v4z\"/>\n",
              "    </g>\n",
              "</svg>\n",
              "  </button>\n",
              "\n",
              "<style>\n",
              "  .colab-df-quickchart {\n",
              "      --bg-color: #E8F0FE;\n",
              "      --fill-color: #1967D2;\n",
              "      --hover-bg-color: #E2EBFA;\n",
              "      --hover-fill-color: #174EA6;\n",
              "      --disabled-fill-color: #AAA;\n",
              "      --disabled-bg-color: #DDD;\n",
              "  }\n",
              "\n",
              "  [theme=dark] .colab-df-quickchart {\n",
              "      --bg-color: #3B4455;\n",
              "      --fill-color: #D2E3FC;\n",
              "      --hover-bg-color: #434B5C;\n",
              "      --hover-fill-color: #FFFFFF;\n",
              "      --disabled-bg-color: #3B4455;\n",
              "      --disabled-fill-color: #666;\n",
              "  }\n",
              "\n",
              "  .colab-df-quickchart {\n",
              "    background-color: var(--bg-color);\n",
              "    border: none;\n",
              "    border-radius: 50%;\n",
              "    cursor: pointer;\n",
              "    display: none;\n",
              "    fill: var(--fill-color);\n",
              "    height: 32px;\n",
              "    padding: 0;\n",
              "    width: 32px;\n",
              "  }\n",
              "\n",
              "  .colab-df-quickchart:hover {\n",
              "    background-color: var(--hover-bg-color);\n",
              "    box-shadow: 0 1px 2px rgba(60, 64, 67, 0.3), 0 1px 3px 1px rgba(60, 64, 67, 0.15);\n",
              "    fill: var(--button-hover-fill-color);\n",
              "  }\n",
              "\n",
              "  .colab-df-quickchart-complete:disabled,\n",
              "  .colab-df-quickchart-complete:disabled:hover {\n",
              "    background-color: var(--disabled-bg-color);\n",
              "    fill: var(--disabled-fill-color);\n",
              "    box-shadow: none;\n",
              "  }\n",
              "\n",
              "  .colab-df-spinner {\n",
              "    border: 2px solid var(--fill-color);\n",
              "    border-color: transparent;\n",
              "    border-bottom-color: var(--fill-color);\n",
              "    animation:\n",
              "      spin 1s steps(1) infinite;\n",
              "  }\n",
              "\n",
              "  @keyframes spin {\n",
              "    0% {\n",
              "      border-color: transparent;\n",
              "      border-bottom-color: var(--fill-color);\n",
              "      border-left-color: var(--fill-color);\n",
              "    }\n",
              "    20% {\n",
              "      border-color: transparent;\n",
              "      border-left-color: var(--fill-color);\n",
              "      border-top-color: var(--fill-color);\n",
              "    }\n",
              "    30% {\n",
              "      border-color: transparent;\n",
              "      border-left-color: var(--fill-color);\n",
              "      border-top-color: var(--fill-color);\n",
              "      border-right-color: var(--fill-color);\n",
              "    }\n",
              "    40% {\n",
              "      border-color: transparent;\n",
              "      border-right-color: var(--fill-color);\n",
              "      border-top-color: var(--fill-color);\n",
              "    }\n",
              "    60% {\n",
              "      border-color: transparent;\n",
              "      border-right-color: var(--fill-color);\n",
              "    }\n",
              "    80% {\n",
              "      border-color: transparent;\n",
              "      border-right-color: var(--fill-color);\n",
              "      border-bottom-color: var(--fill-color);\n",
              "    }\n",
              "    90% {\n",
              "      border-color: transparent;\n",
              "      border-bottom-color: var(--fill-color);\n",
              "    }\n",
              "  }\n",
              "</style>\n",
              "\n",
              "  <script>\n",
              "    async function quickchart(key) {\n",
              "      const quickchartButtonEl =\n",
              "        document.querySelector('#' + key + ' button');\n",
              "      quickchartButtonEl.disabled = true;  // To prevent multiple clicks.\n",
              "      quickchartButtonEl.classList.add('colab-df-spinner');\n",
              "      try {\n",
              "        const charts = await google.colab.kernel.invokeFunction(\n",
              "            'suggestCharts', [key], {});\n",
              "      } catch (error) {\n",
              "        console.error('Error during call to suggestCharts:', error);\n",
              "      }\n",
              "      quickchartButtonEl.classList.remove('colab-df-spinner');\n",
              "      quickchartButtonEl.classList.add('colab-df-quickchart-complete');\n",
              "    }\n",
              "    (() => {\n",
              "      let quickchartButtonEl =\n",
              "        document.querySelector('#df-d85507e2-a175-4d7e-ba6c-7da979332991 button');\n",
              "      quickchartButtonEl.style.display =\n",
              "        google.colab.kernel.accessAllowed ? 'block' : 'none';\n",
              "    })();\n",
              "  </script>\n",
              "</div>\n",
              "\n",
              "    </div>\n",
              "  </div>\n"
            ],
            "application/vnd.google.colaboratory.intrinsic+json": {
              "type": "dataframe",
              "variable_name": "df",
              "summary": "{\n  \"name\": \"df\",\n  \"rows\": 84,\n  \"fields\": [\n    {\n      \"column\": \"Unnamed: 0\",\n      \"properties\": {\n        \"dtype\": \"date\",\n        \"min\": \"2011-01-01 00:00:00\",\n        \"max\": \"2017-12-01 00:00:00\",\n        \"num_unique_values\": 84,\n        \"samples\": [\n          \"2017-02-01 00:00:00\",\n          \"2011-01-01 00:00:00\",\n          \"2015-11-01 00:00:00\"\n        ],\n        \"semantic_type\": \"\",\n        \"description\": \"\"\n      }\n    },\n    {\n      \"column\": \"\\u041f\\u0440\\u0438\\u0440\\u043e\\u0441\\u0442 \\u0432\\u043a\\u043b\\u0430\\u0434\\u043e\\u0432 \\u0444\\u0438\\u0437\\u0438\\u0447\\u0435\\u0441\\u043a\\u0438\\u0445 \\u043b\\u0438\\u0446 \\u0432 \\u0440\\u0443\\u0431\\u043b\\u044f\\u0445 (\\u043c\\u043b\\u043d \\u0440\\u0443\\u0431)\",\n      \"properties\": {\n        \"dtype\": \"number\",\n        \"std\": 259385.69387445482,\n        \"min\": -567448.0,\n        \"max\": 1034556.0,\n        \"num_unique_values\": 72,\n        \"samples\": [\n          45856.0,\n          147971.0,\n          13565.0\n        ],\n        \"semantic_type\": \"\",\n        \"description\": \"\"\n      }\n    },\n    {\n      \"column\": \"\\u0414\\u043e\\u0445\\u043e\\u0434\\u043d\\u043e\\u0441\\u0442\\u044c \\u041e\\u0424\\u0417 \\u043f\\u043e \\u0441\\u0440\\u043e\\u043a\\u0443 \\u0434\\u043e 1 \\u0433\\u043e\\u0434\\u0430\",\n      \"properties\": {\n        \"dtype\": \"number\",\n        \"std\": 2.195040044373598,\n        \"min\": 4.558571428571428,\n        \"max\": 15.09842105263158,\n        \"num_unique_values\": 84,\n        \"samples\": [\n          8.830526315789472,\n          5.244666666666666,\n          10.299999999999997\n        ],\n        \"semantic_type\": \"\",\n        \"description\": \"\"\n      }\n    },\n    {\n      \"column\": \"\\u041a\\u043b\\u044e\\u0447\\u0435\\u0432\\u0430\\u044f \\u0441\\u0442\\u0430\\u0432\\u043a\\u0430\",\n      \"properties\": {\n        \"dtype\": \"number\",\n        \"std\": 2.2142325054218124,\n        \"min\": 5.5,\n        \"max\": 17.0,\n        \"num_unique_values\": 19,\n        \"samples\": [\n          7.75,\n          7.5,\n          11.5\n        ],\n        \"semantic_type\": \"\",\n        \"description\": \"\"\n      }\n    },\n    {\n      \"column\": \"\\u0421\\u0442\\u0430\\u0432\\u043a\\u0430 \\u043f\\u043e \\u0432\\u043a\\u043b\\u0430\\u0434\\u0430\\u043c \\u0432 \\u0434\\u043e\\u043b\\u043b\\u0430\\u0440\\u0430\\u0445 \\u0434\\u043e 1 \\u0433\\u043e\\u0434\\u0430\",\n      \"properties\": {\n        \"dtype\": \"number\",\n        \"std\": 1.1086238581520909,\n        \"min\": 0.52,\n        \"max\": 5.22,\n        \"num_unique_values\": 52,\n        \"samples\": [\n          1.63,\n          0.71,\n          0.52\n        ],\n        \"semantic_type\": \"\",\n        \"description\": \"\"\n      }\n    },\n    {\n      \"column\": \"\\u0421\\u0442\\u0430\\u0432\\u043a\\u0430 \\u043f\\u043e \\u0432\\u043a\\u043b\\u0430\\u0434\\u0430\\u043c \\u0432 \\u0440\\u0443\\u0431\\u043b\\u044f\\u0445 \\u0434\\u043e\\u00a01\\u00a0\\u0433\\u043e\\u0434\\u0430\",\n      \"properties\": {\n        \"dtype\": \"number\",\n        \"std\": 1.7333935084329388,\n        \"min\": 4.0,\n        \"max\": 12.33,\n        \"num_unique_values\": 57,\n        \"samples\": [\n          4.5,\n          5.5,\n          11.16\n        ],\n        \"semantic_type\": \"\",\n        \"description\": \"\"\n      }\n    },\n    {\n      \"column\": \"\\u041d\\u0435\\u0444\\u0442\\u044c \\u043c\\u0430\\u0440\\u043a\\u0438 \\u042e\\u0440\\u0430\\u043b\\u0441, \\u0434\\u043e\\u043b\\u043b./\\u0431\\u0430\\u0440\\u0440\",\n      \"properties\": {\n        \"dtype\": \"number\",\n        \"std\": 30.06998693715145,\n        \"min\": 30.8,\n        \"max\": 124.93,\n        \"num_unique_values\": 83,\n        \"samples\": [\n          110.96,\n          96.29,\n          109.71\n        ],\n        \"semantic_type\": \"\",\n        \"description\": \"\"\n      }\n    },\n    {\n      \"column\": \"\\u0418\\u043d\\u0434\\u0435\\u043a\\u0441 \\u043f\\u043e\\u0442\\u0440\\u0435\\u0431\\u0438\\u0442\\u0435\\u043b\\u044c\\u0441\\u043a\\u0438\\u0445 \\u0446\\u0435\\u043d, \\u0435\\u0434.\",\n      \"properties\": {\n        \"dtype\": \"number\",\n        \"std\": 22.413867194090123,\n        \"min\": 106.17151,\n        \"max\": 169.560950418,\n        \"num_unique_values\": 84,\n        \"samples\": [\n          166.80087,\n          106.17151,\n          155.77228\n        ],\n        \"semantic_type\": \"\",\n        \"description\": \"\"\n      }\n    },\n    {\n      \"column\": \"\\u041c0, \\u043c\\u043b\\u0440\\u0434 \\u0440\\u0443\\u0431\",\n      \"properties\": {\n        \"dtype\": \"number\",\n        \"std\": 844.9154765468426,\n        \"min\": 4830.7,\n        \"max\": 8089.527215,\n        \"num_unique_values\": 84,\n        \"samples\": [\n          7543.682136,\n          5062.7,\n          6786.919757\n        ],\n        \"semantic_type\": \"\",\n        \"description\": \"\"\n      }\n    },\n    {\n      \"column\": \"\\u041c2, \\u043c\\u043b\\u0440\\u0434 \\u0440\\u0443\\u0431\",\n      \"properties\": {\n        \"dtype\": \"number\",\n        \"std\": 5984.722501451316,\n        \"min\": 19307.7,\n        \"max\": 40114.408277790004,\n        \"num_unique_values\": 84,\n        \"samples\": [\n          38016.82759726,\n          20011.9,\n          32160.99116315\n        ],\n        \"semantic_type\": \"\",\n        \"description\": \"\"\n      }\n    },\n    {\n      \"column\": \"\\u041a\\u0443\\u0440\\u0441 \\u0434\\u043e\\u043b\\u043b\\u0430\\u0440\\u0430 \\u043a \\u0440\\u0443\\u0431\\u043b\\u044e, \\u0440\\u0443\\u0431\",\n      \"properties\": {\n        \"dtype\": \"number\",\n        \"std\": 15.539177288215974,\n        \"min\": 27.87,\n        \"max\": 77.22,\n        \"num_unique_values\": 84,\n        \"samples\": [\n          58.39,\n          30.08,\n          65.03\n        ],\n        \"semantic_type\": \"\",\n        \"description\": \"\"\n      }\n    },\n    {\n      \"column\": \"\\u041d\\u043e\\u043c\\u0438\\u043d\\u0430\\u043b\\u044c\\u043d\\u0430\\u044f \\u0441\\u0440\\u0435\\u0434\\u043d\\u044f\\u044f \\u0437/\\u043f, \\u0440\\u0443\\u0431\",\n      \"properties\": {\n        \"dtype\": \"number\",\n        \"std\": 6029,\n        \"min\": 20669,\n        \"max\": 50500,\n        \"num_unique_values\": 84,\n        \"samples\": [\n          35497,\n          20669,\n          33347\n        ],\n        \"semantic_type\": \"\",\n        \"description\": \"\"\n      }\n    }\n  ]\n}"
            }
          },
          "metadata": {},
          "execution_count": 2
        }
      ]
    },
    {
      "cell_type": "markdown",
      "source": [
        "2. Переименование колонок для удобства анализа"
      ],
      "metadata": {
        "id": "xEV6nbydrafZ"
      }
    },
    {
      "cell_type": "code",
      "source": [
        "columns_russian = [\n",
        "    \"Прирост вкладов физических лиц в рублях (млн руб)\",\n",
        "    \"Доходность ОФЗ по сроку до 1 года\",\n",
        "    \"Ключевая ставка\",\n",
        "    \"Ставка по вкладам в долларах до 1 года\",\n",
        "    \"Ставка по вкладам в рублях до 1 года\",\n",
        "    \"Нефть марки Юралс, долл./барр\",\n",
        "    \"Индекс потребительских цен, ед.\",\n",
        "    \"М0, млрд руб\",\n",
        "    \"М2, млрд руб\",\n",
        "    \"Курс доллара к рублю, руб\",\n",
        "    \"Номинальная средняя з/п, руб\"\n",
        "]\n",
        "\n",
        "columns_english = [\n",
        "    \"deposit_growth_rubles_mln\",\n",
        "    \"ofz_yield_upto_1_year\",\n",
        "    \"key_rate\",\n",
        "    \"deposit_rate_dollars_upto_1_year\",\n",
        "    \"deposit_rate_rubles_upto_1_year\",\n",
        "    \"urals_oil_usd_per_barrel\",\n",
        "    \"consumer_price_index\",\n",
        "    \"m0_bln_rubles\",\n",
        "    \"m2_bln_rubles\",\n",
        "    \"usd_to_rub_exchange_rate\",\n",
        "    \"average_nominal_salary_rubles\"\n",
        "]"
      ],
      "metadata": {
        "id": "-UdCNu48rcPU"
      },
      "execution_count": 3,
      "outputs": []
    },
    {
      "cell_type": "code",
      "source": [
        "df.rename(columns=dict(zip(columns_russian, columns_english)), inplace=True)\n",
        "df.rename(columns={df.columns[0]: \"date\"}, inplace=True)  # Более устойчивое переименование первой колонки\n",
        "df.rename(columns={df.columns[5]: \"deposit_rate_rubles_upto_1_year\"}, inplace=True)"
      ],
      "metadata": {
        "id": "G3_moUhMri0m"
      },
      "execution_count": 4,
      "outputs": []
    },
    {
      "cell_type": "markdown",
      "source": [
        "3. Добавление временного индекса для порядка записей"
      ],
      "metadata": {
        "id": "dUKKi2lVsOXJ"
      }
    },
    {
      "cell_type": "code",
      "source": [
        "df[\"time_idx\"] = df.index"
      ],
      "metadata": {
        "id": "gTtovIL0sPPS"
      },
      "execution_count": 5,
      "outputs": []
    },
    {
      "cell_type": "code",
      "source": [
        "df[\"date\"] = pd.to_datetime(df[\"date\"])"
      ],
      "metadata": {
        "id": "pAxvNFipHf2R"
      },
      "execution_count": 6,
      "outputs": []
    },
    {
      "cell_type": "code",
      "source": [
        "df.columns"
      ],
      "metadata": {
        "colab": {
          "base_uri": "https://localhost:8080/"
        },
        "id": "7p5QDHpHrk4A",
        "outputId": "104b5fc0-b1e3-4a76-bab2-49d978986c69"
      },
      "execution_count": 7,
      "outputs": [
        {
          "output_type": "execute_result",
          "data": {
            "text/plain": [
              "Index(['date', 'deposit_growth_rubles_mln', 'ofz_yield_upto_1_year',\n",
              "       'key_rate', 'deposit_rate_dollars_upto_1_year',\n",
              "       'deposit_rate_rubles_upto_1_year', 'urals_oil_usd_per_barrel',\n",
              "       'consumer_price_index', 'm0_bln_rubles', 'm2_bln_rubles',\n",
              "       'usd_to_rub_exchange_rate', 'average_nominal_salary_rubles',\n",
              "       'time_idx'],\n",
              "      dtype='object')"
            ]
          },
          "metadata": {},
          "execution_count": 7
        }
      ]
    },
    {
      "cell_type": "markdown",
      "source": [
        "4. Cепарируем данные на тренирвку и на предсказание"
      ],
      "metadata": {
        "id": "Cp-VSHUkso_f"
      }
    },
    {
      "cell_type": "code",
      "source": [
        "target_column = \"deposit_growth_rubles_mln\""
      ],
      "metadata": {
        "id": "RIuUwCaDtflP"
      },
      "execution_count": 8,
      "outputs": []
    },
    {
      "cell_type": "code",
      "source": [
        "df_train = df[df[target_column].notna()]\n",
        "df_train.head()"
      ],
      "metadata": {
        "colab": {
          "base_uri": "https://localhost:8080/",
          "height": 399
        },
        "id": "SLa406PKtVPK",
        "outputId": "098561f3-081a-46f4-e6f1-be7159381458"
      },
      "execution_count": 9,
      "outputs": [
        {
          "output_type": "execute_result",
          "data": {
            "text/plain": [
              "        date  deposit_growth_rubles_mln  ofz_yield_upto_1_year  key_rate  \\\n",
              "0 2011-01-01                   -79049.0               5.244667      7.75   \n",
              "1 2011-02-01                   180475.0               5.144211      8.00   \n",
              "2 2011-03-01                   106845.0               5.021364      8.00   \n",
              "3 2011-04-01                   224890.0               4.558571      8.00   \n",
              "4 2011-05-01                    45856.0               4.795000      8.25   \n",
              "\n",
              "   deposit_rate_dollars_upto_1_year  deposit_rate_rubles_upto_1_year  \\\n",
              "0                               2.9                              4.5   \n",
              "1                               3.1                              4.4   \n",
              "2                               3.1                              4.2   \n",
              "3                               2.6                              4.1   \n",
              "4                               2.6                              4.1   \n",
              "\n",
              "   urals_oil_usd_per_barrel  consumer_price_index  m0_bln_rubles  \\\n",
              "0                     96.29             106.17151         5062.7   \n",
              "1                    103.96             106.99964         4830.7   \n",
              "2                    114.44             107.66304         4898.0   \n",
              "3                    123.15             108.12599         4918.2   \n",
              "4                    114.46             108.64500         5071.3   \n",
              "\n",
              "   m2_bln_rubles  usd_to_rub_exchange_rate  average_nominal_salary_rubles  \\\n",
              "0        20011.9                     30.08                          20669   \n",
              "1        19307.7                     29.29                          20680   \n",
              "2        19536.7                     28.43                          22673   \n",
              "3        19788.7                     28.10                          22519   \n",
              "4        20020.8                     27.87                          22779   \n",
              "\n",
              "   time_idx  \n",
              "0         0  \n",
              "1         1  \n",
              "2         2  \n",
              "3         3  \n",
              "4         4  "
            ],
            "text/html": [
              "\n",
              "  <div id=\"df-662a1c07-833a-4bdf-9cd7-02d6d4fcd1c6\" class=\"colab-df-container\">\n",
              "    <div>\n",
              "<style scoped>\n",
              "    .dataframe tbody tr th:only-of-type {\n",
              "        vertical-align: middle;\n",
              "    }\n",
              "\n",
              "    .dataframe tbody tr th {\n",
              "        vertical-align: top;\n",
              "    }\n",
              "\n",
              "    .dataframe thead th {\n",
              "        text-align: right;\n",
              "    }\n",
              "</style>\n",
              "<table border=\"1\" class=\"dataframe\">\n",
              "  <thead>\n",
              "    <tr style=\"text-align: right;\">\n",
              "      <th></th>\n",
              "      <th>date</th>\n",
              "      <th>deposit_growth_rubles_mln</th>\n",
              "      <th>ofz_yield_upto_1_year</th>\n",
              "      <th>key_rate</th>\n",
              "      <th>deposit_rate_dollars_upto_1_year</th>\n",
              "      <th>deposit_rate_rubles_upto_1_year</th>\n",
              "      <th>urals_oil_usd_per_barrel</th>\n",
              "      <th>consumer_price_index</th>\n",
              "      <th>m0_bln_rubles</th>\n",
              "      <th>m2_bln_rubles</th>\n",
              "      <th>usd_to_rub_exchange_rate</th>\n",
              "      <th>average_nominal_salary_rubles</th>\n",
              "      <th>time_idx</th>\n",
              "    </tr>\n",
              "  </thead>\n",
              "  <tbody>\n",
              "    <tr>\n",
              "      <th>0</th>\n",
              "      <td>2011-01-01</td>\n",
              "      <td>-79049.0</td>\n",
              "      <td>5.244667</td>\n",
              "      <td>7.75</td>\n",
              "      <td>2.9</td>\n",
              "      <td>4.5</td>\n",
              "      <td>96.29</td>\n",
              "      <td>106.17151</td>\n",
              "      <td>5062.7</td>\n",
              "      <td>20011.9</td>\n",
              "      <td>30.08</td>\n",
              "      <td>20669</td>\n",
              "      <td>0</td>\n",
              "    </tr>\n",
              "    <tr>\n",
              "      <th>1</th>\n",
              "      <td>2011-02-01</td>\n",
              "      <td>180475.0</td>\n",
              "      <td>5.144211</td>\n",
              "      <td>8.00</td>\n",
              "      <td>3.1</td>\n",
              "      <td>4.4</td>\n",
              "      <td>103.96</td>\n",
              "      <td>106.99964</td>\n",
              "      <td>4830.7</td>\n",
              "      <td>19307.7</td>\n",
              "      <td>29.29</td>\n",
              "      <td>20680</td>\n",
              "      <td>1</td>\n",
              "    </tr>\n",
              "    <tr>\n",
              "      <th>2</th>\n",
              "      <td>2011-03-01</td>\n",
              "      <td>106845.0</td>\n",
              "      <td>5.021364</td>\n",
              "      <td>8.00</td>\n",
              "      <td>3.1</td>\n",
              "      <td>4.2</td>\n",
              "      <td>114.44</td>\n",
              "      <td>107.66304</td>\n",
              "      <td>4898.0</td>\n",
              "      <td>19536.7</td>\n",
              "      <td>28.43</td>\n",
              "      <td>22673</td>\n",
              "      <td>2</td>\n",
              "    </tr>\n",
              "    <tr>\n",
              "      <th>3</th>\n",
              "      <td>2011-04-01</td>\n",
              "      <td>224890.0</td>\n",
              "      <td>4.558571</td>\n",
              "      <td>8.00</td>\n",
              "      <td>2.6</td>\n",
              "      <td>4.1</td>\n",
              "      <td>123.15</td>\n",
              "      <td>108.12599</td>\n",
              "      <td>4918.2</td>\n",
              "      <td>19788.7</td>\n",
              "      <td>28.10</td>\n",
              "      <td>22519</td>\n",
              "      <td>3</td>\n",
              "    </tr>\n",
              "    <tr>\n",
              "      <th>4</th>\n",
              "      <td>2011-05-01</td>\n",
              "      <td>45856.0</td>\n",
              "      <td>4.795000</td>\n",
              "      <td>8.25</td>\n",
              "      <td>2.6</td>\n",
              "      <td>4.1</td>\n",
              "      <td>114.46</td>\n",
              "      <td>108.64500</td>\n",
              "      <td>5071.3</td>\n",
              "      <td>20020.8</td>\n",
              "      <td>27.87</td>\n",
              "      <td>22779</td>\n",
              "      <td>4</td>\n",
              "    </tr>\n",
              "  </tbody>\n",
              "</table>\n",
              "</div>\n",
              "    <div class=\"colab-df-buttons\">\n",
              "\n",
              "  <div class=\"colab-df-container\">\n",
              "    <button class=\"colab-df-convert\" onclick=\"convertToInteractive('df-662a1c07-833a-4bdf-9cd7-02d6d4fcd1c6')\"\n",
              "            title=\"Convert this dataframe to an interactive table.\"\n",
              "            style=\"display:none;\">\n",
              "\n",
              "  <svg xmlns=\"http://www.w3.org/2000/svg\" height=\"24px\" viewBox=\"0 -960 960 960\">\n",
              "    <path d=\"M120-120v-720h720v720H120Zm60-500h600v-160H180v160Zm220 220h160v-160H400v160Zm0 220h160v-160H400v160ZM180-400h160v-160H180v160Zm440 0h160v-160H620v160ZM180-180h160v-160H180v160Zm440 0h160v-160H620v160Z\"/>\n",
              "  </svg>\n",
              "    </button>\n",
              "\n",
              "  <style>\n",
              "    .colab-df-container {\n",
              "      display:flex;\n",
              "      gap: 12px;\n",
              "    }\n",
              "\n",
              "    .colab-df-convert {\n",
              "      background-color: #E8F0FE;\n",
              "      border: none;\n",
              "      border-radius: 50%;\n",
              "      cursor: pointer;\n",
              "      display: none;\n",
              "      fill: #1967D2;\n",
              "      height: 32px;\n",
              "      padding: 0 0 0 0;\n",
              "      width: 32px;\n",
              "    }\n",
              "\n",
              "    .colab-df-convert:hover {\n",
              "      background-color: #E2EBFA;\n",
              "      box-shadow: 0px 1px 2px rgba(60, 64, 67, 0.3), 0px 1px 3px 1px rgba(60, 64, 67, 0.15);\n",
              "      fill: #174EA6;\n",
              "    }\n",
              "\n",
              "    .colab-df-buttons div {\n",
              "      margin-bottom: 4px;\n",
              "    }\n",
              "\n",
              "    [theme=dark] .colab-df-convert {\n",
              "      background-color: #3B4455;\n",
              "      fill: #D2E3FC;\n",
              "    }\n",
              "\n",
              "    [theme=dark] .colab-df-convert:hover {\n",
              "      background-color: #434B5C;\n",
              "      box-shadow: 0px 1px 3px 1px rgba(0, 0, 0, 0.15);\n",
              "      filter: drop-shadow(0px 1px 2px rgba(0, 0, 0, 0.3));\n",
              "      fill: #FFFFFF;\n",
              "    }\n",
              "  </style>\n",
              "\n",
              "    <script>\n",
              "      const buttonEl =\n",
              "        document.querySelector('#df-662a1c07-833a-4bdf-9cd7-02d6d4fcd1c6 button.colab-df-convert');\n",
              "      buttonEl.style.display =\n",
              "        google.colab.kernel.accessAllowed ? 'block' : 'none';\n",
              "\n",
              "      async function convertToInteractive(key) {\n",
              "        const element = document.querySelector('#df-662a1c07-833a-4bdf-9cd7-02d6d4fcd1c6');\n",
              "        const dataTable =\n",
              "          await google.colab.kernel.invokeFunction('convertToInteractive',\n",
              "                                                    [key], {});\n",
              "        if (!dataTable) return;\n",
              "\n",
              "        const docLinkHtml = 'Like what you see? Visit the ' +\n",
              "          '<a target=\"_blank\" href=https://colab.research.google.com/notebooks/data_table.ipynb>data table notebook</a>'\n",
              "          + ' to learn more about interactive tables.';\n",
              "        element.innerHTML = '';\n",
              "        dataTable['output_type'] = 'display_data';\n",
              "        await google.colab.output.renderOutput(dataTable, element);\n",
              "        const docLink = document.createElement('div');\n",
              "        docLink.innerHTML = docLinkHtml;\n",
              "        element.appendChild(docLink);\n",
              "      }\n",
              "    </script>\n",
              "  </div>\n",
              "\n",
              "\n",
              "<div id=\"df-05d1f06e-4d06-45f0-aa5c-d574201910e2\">\n",
              "  <button class=\"colab-df-quickchart\" onclick=\"quickchart('df-05d1f06e-4d06-45f0-aa5c-d574201910e2')\"\n",
              "            title=\"Suggest charts\"\n",
              "            style=\"display:none;\">\n",
              "\n",
              "<svg xmlns=\"http://www.w3.org/2000/svg\" height=\"24px\"viewBox=\"0 0 24 24\"\n",
              "     width=\"24px\">\n",
              "    <g>\n",
              "        <path d=\"M19 3H5c-1.1 0-2 .9-2 2v14c0 1.1.9 2 2 2h14c1.1 0 2-.9 2-2V5c0-1.1-.9-2-2-2zM9 17H7v-7h2v7zm4 0h-2V7h2v10zm4 0h-2v-4h2v4z\"/>\n",
              "    </g>\n",
              "</svg>\n",
              "  </button>\n",
              "\n",
              "<style>\n",
              "  .colab-df-quickchart {\n",
              "      --bg-color: #E8F0FE;\n",
              "      --fill-color: #1967D2;\n",
              "      --hover-bg-color: #E2EBFA;\n",
              "      --hover-fill-color: #174EA6;\n",
              "      --disabled-fill-color: #AAA;\n",
              "      --disabled-bg-color: #DDD;\n",
              "  }\n",
              "\n",
              "  [theme=dark] .colab-df-quickchart {\n",
              "      --bg-color: #3B4455;\n",
              "      --fill-color: #D2E3FC;\n",
              "      --hover-bg-color: #434B5C;\n",
              "      --hover-fill-color: #FFFFFF;\n",
              "      --disabled-bg-color: #3B4455;\n",
              "      --disabled-fill-color: #666;\n",
              "  }\n",
              "\n",
              "  .colab-df-quickchart {\n",
              "    background-color: var(--bg-color);\n",
              "    border: none;\n",
              "    border-radius: 50%;\n",
              "    cursor: pointer;\n",
              "    display: none;\n",
              "    fill: var(--fill-color);\n",
              "    height: 32px;\n",
              "    padding: 0;\n",
              "    width: 32px;\n",
              "  }\n",
              "\n",
              "  .colab-df-quickchart:hover {\n",
              "    background-color: var(--hover-bg-color);\n",
              "    box-shadow: 0 1px 2px rgba(60, 64, 67, 0.3), 0 1px 3px 1px rgba(60, 64, 67, 0.15);\n",
              "    fill: var(--button-hover-fill-color);\n",
              "  }\n",
              "\n",
              "  .colab-df-quickchart-complete:disabled,\n",
              "  .colab-df-quickchart-complete:disabled:hover {\n",
              "    background-color: var(--disabled-bg-color);\n",
              "    fill: var(--disabled-fill-color);\n",
              "    box-shadow: none;\n",
              "  }\n",
              "\n",
              "  .colab-df-spinner {\n",
              "    border: 2px solid var(--fill-color);\n",
              "    border-color: transparent;\n",
              "    border-bottom-color: var(--fill-color);\n",
              "    animation:\n",
              "      spin 1s steps(1) infinite;\n",
              "  }\n",
              "\n",
              "  @keyframes spin {\n",
              "    0% {\n",
              "      border-color: transparent;\n",
              "      border-bottom-color: var(--fill-color);\n",
              "      border-left-color: var(--fill-color);\n",
              "    }\n",
              "    20% {\n",
              "      border-color: transparent;\n",
              "      border-left-color: var(--fill-color);\n",
              "      border-top-color: var(--fill-color);\n",
              "    }\n",
              "    30% {\n",
              "      border-color: transparent;\n",
              "      border-left-color: var(--fill-color);\n",
              "      border-top-color: var(--fill-color);\n",
              "      border-right-color: var(--fill-color);\n",
              "    }\n",
              "    40% {\n",
              "      border-color: transparent;\n",
              "      border-right-color: var(--fill-color);\n",
              "      border-top-color: var(--fill-color);\n",
              "    }\n",
              "    60% {\n",
              "      border-color: transparent;\n",
              "      border-right-color: var(--fill-color);\n",
              "    }\n",
              "    80% {\n",
              "      border-color: transparent;\n",
              "      border-right-color: var(--fill-color);\n",
              "      border-bottom-color: var(--fill-color);\n",
              "    }\n",
              "    90% {\n",
              "      border-color: transparent;\n",
              "      border-bottom-color: var(--fill-color);\n",
              "    }\n",
              "  }\n",
              "</style>\n",
              "\n",
              "  <script>\n",
              "    async function quickchart(key) {\n",
              "      const quickchartButtonEl =\n",
              "        document.querySelector('#' + key + ' button');\n",
              "      quickchartButtonEl.disabled = true;  // To prevent multiple clicks.\n",
              "      quickchartButtonEl.classList.add('colab-df-spinner');\n",
              "      try {\n",
              "        const charts = await google.colab.kernel.invokeFunction(\n",
              "            'suggestCharts', [key], {});\n",
              "      } catch (error) {\n",
              "        console.error('Error during call to suggestCharts:', error);\n",
              "      }\n",
              "      quickchartButtonEl.classList.remove('colab-df-spinner');\n",
              "      quickchartButtonEl.classList.add('colab-df-quickchart-complete');\n",
              "    }\n",
              "    (() => {\n",
              "      let quickchartButtonEl =\n",
              "        document.querySelector('#df-05d1f06e-4d06-45f0-aa5c-d574201910e2 button');\n",
              "      quickchartButtonEl.style.display =\n",
              "        google.colab.kernel.accessAllowed ? 'block' : 'none';\n",
              "    })();\n",
              "  </script>\n",
              "</div>\n",
              "\n",
              "    </div>\n",
              "  </div>\n"
            ],
            "application/vnd.google.colaboratory.intrinsic+json": {
              "type": "dataframe",
              "variable_name": "df_train",
              "summary": "{\n  \"name\": \"df_train\",\n  \"rows\": 72,\n  \"fields\": [\n    {\n      \"column\": \"date\",\n      \"properties\": {\n        \"dtype\": \"date\",\n        \"min\": \"2011-01-01 00:00:00\",\n        \"max\": \"2016-12-01 00:00:00\",\n        \"num_unique_values\": 72,\n        \"samples\": [\n          \"2011-05-01 00:00:00\",\n          \"2016-03-01 00:00:00\",\n          \"2012-07-01 00:00:00\"\n        ],\n        \"semantic_type\": \"\",\n        \"description\": \"\"\n      }\n    },\n    {\n      \"column\": \"deposit_growth_rubles_mln\",\n      \"properties\": {\n        \"dtype\": \"number\",\n        \"std\": 259385.69387445482,\n        \"min\": -567448.0,\n        \"max\": 1034556.0,\n        \"num_unique_values\": 72,\n        \"samples\": [\n          45856.0,\n          147971.0,\n          13565.0\n        ],\n        \"semantic_type\": \"\",\n        \"description\": \"\"\n      }\n    },\n    {\n      \"column\": \"ofz_yield_upto_1_year\",\n      \"properties\": {\n        \"dtype\": \"number\",\n        \"std\": 2.3595515375759506,\n        \"min\": 4.558571428571428,\n        \"max\": 15.09842105263158,\n        \"num_unique_values\": 72,\n        \"samples\": [\n          4.795,\n          9.505909090909087,\n          6.5196774193548395\n        ],\n        \"semantic_type\": \"\",\n        \"description\": \"\"\n      }\n    },\n    {\n      \"column\": \"key_rate\",\n      \"properties\": {\n        \"dtype\": \"number\",\n        \"std\": 2.3756948575812564,\n        \"min\": 5.5,\n        \"max\": 17.0,\n        \"num_unique_values\": 15,\n        \"samples\": [\n          14.0,\n          11.5,\n          7.75\n        ],\n        \"semantic_type\": \"\",\n        \"description\": \"\"\n      }\n    },\n    {\n      \"column\": \"deposit_rate_dollars_upto_1_year\",\n      \"properties\": {\n        \"dtype\": \"number\",\n        \"std\": 1.0000528057262783,\n        \"min\": 0.71,\n        \"max\": 5.22,\n        \"num_unique_values\": 44,\n        \"samples\": [\n          0.97,\n          5.18,\n          3.96\n        ],\n        \"semantic_type\": \"\",\n        \"description\": \"\"\n      }\n    },\n    {\n      \"column\": \"deposit_rate_rubles_upto_1_year\",\n      \"properties\": {\n        \"dtype\": \"number\",\n        \"std\": 1.8589680277846385,\n        \"min\": 4.0,\n        \"max\": 12.33,\n        \"num_unique_values\": 50,\n        \"samples\": [\n          6.2,\n          8.43,\n          11.16\n        ],\n        \"semantic_type\": \"\",\n        \"description\": \"\"\n      }\n    },\n    {\n      \"column\": \"urals_oil_usd_per_barrel\",\n      \"properties\": {\n        \"dtype\": \"number\",\n        \"std\": 29.884172667764727,\n        \"min\": 30.8,\n        \"max\": 124.93,\n        \"num_unique_values\": 71,\n        \"samples\": [\n          109.71,\n          96.29,\n          55.79\n        ],\n        \"semantic_type\": \"\",\n        \"description\": \"\"\n      }\n    },\n    {\n      \"column\": \"consumer_price_index\",\n      \"properties\": {\n        \"dtype\": \"number\",\n        \"std\": 19.80261850161188,\n        \"min\": 106.17151,\n        \"max\": 165.40918,\n        \"num_unique_values\": 72,\n        \"samples\": [\n          108.645,\n          160.21067,\n          114.97117\n        ],\n        \"semantic_type\": \"\",\n        \"description\": \"\"\n      }\n    },\n    {\n      \"column\": \"m0_bln_rubles\",\n      \"properties\": {\n        \"dtype\": \"number\",\n        \"std\": 713.3783873451505,\n        \"min\": 4830.7,\n        \"max\": 7462.394809,\n        \"num_unique_values\": 72,\n        \"samples\": [\n          5071.3,\n          7149.79546,\n          6003.9\n        ],\n        \"semantic_type\": \"\",\n        \"description\": \"\"\n      }\n    },\n    {\n      \"column\": \"m2_bln_rubles\",\n      \"properties\": {\n        \"dtype\": \"number\",\n        \"std\": 4995.268162575933,\n        \"min\": 19307.7,\n        \"max\": 36432.971672730004,\n        \"num_unique_values\": 72,\n        \"samples\": [\n          20020.8,\n          34309.64966052,\n          24461.0\n        ],\n        \"semantic_type\": \"\",\n        \"description\": \"\"\n      }\n    },\n    {\n      \"column\": \"usd_to_rub_exchange_rate\",\n      \"properties\": {\n        \"dtype\": \"number\",\n        \"std\": 15.76344273123741,\n        \"min\": 27.87,\n        \"max\": 77.22,\n        \"num_unique_values\": 72,\n        \"samples\": [\n          27.87,\n          70.47,\n          32.5\n        ],\n        \"semantic_type\": \"\",\n        \"description\": \"\"\n      }\n    },\n    {\n      \"column\": \"average_nominal_salary_rubles\",\n      \"properties\": {\n        \"dtype\": \"number\",\n        \"std\": 5451,\n        \"min\": 20669,\n        \"max\": 47554,\n        \"num_unique_values\": 72,\n        \"samples\": [\n          22779,\n          35501,\n          26684\n        ],\n        \"semantic_type\": \"\",\n        \"description\": \"\"\n      }\n    },\n    {\n      \"column\": \"time_idx\",\n      \"properties\": {\n        \"dtype\": \"number\",\n        \"std\": 20,\n        \"min\": 0,\n        \"max\": 71,\n        \"num_unique_values\": 72,\n        \"samples\": [\n          4,\n          62,\n          18\n        ],\n        \"semantic_type\": \"\",\n        \"description\": \"\"\n      }\n    }\n  ]\n}"
            }
          },
          "metadata": {},
          "execution_count": 9
        }
      ]
    },
    {
      "cell_type": "code",
      "source": [
        "df_train_grapgh = df[df[target_column].notna()][target_column]\n",
        "df_train_grapgh.head()"
      ],
      "metadata": {
        "colab": {
          "base_uri": "https://localhost:8080/",
          "height": 241
        },
        "id": "PCDzd4bXONxN",
        "outputId": "f02ae9c5-50e9-4236-b622-043650ef106d"
      },
      "execution_count": 10,
      "outputs": [
        {
          "output_type": "execute_result",
          "data": {
            "text/plain": [
              "0    -79049.0\n",
              "1    180475.0\n",
              "2    106845.0\n",
              "3    224890.0\n",
              "4     45856.0\n",
              "Name: deposit_growth_rubles_mln, dtype: float64"
            ],
            "text/html": [
              "<div>\n",
              "<style scoped>\n",
              "    .dataframe tbody tr th:only-of-type {\n",
              "        vertical-align: middle;\n",
              "    }\n",
              "\n",
              "    .dataframe tbody tr th {\n",
              "        vertical-align: top;\n",
              "    }\n",
              "\n",
              "    .dataframe thead th {\n",
              "        text-align: right;\n",
              "    }\n",
              "</style>\n",
              "<table border=\"1\" class=\"dataframe\">\n",
              "  <thead>\n",
              "    <tr style=\"text-align: right;\">\n",
              "      <th></th>\n",
              "      <th>deposit_growth_rubles_mln</th>\n",
              "    </tr>\n",
              "  </thead>\n",
              "  <tbody>\n",
              "    <tr>\n",
              "      <th>0</th>\n",
              "      <td>-79049.0</td>\n",
              "    </tr>\n",
              "    <tr>\n",
              "      <th>1</th>\n",
              "      <td>180475.0</td>\n",
              "    </tr>\n",
              "    <tr>\n",
              "      <th>2</th>\n",
              "      <td>106845.0</td>\n",
              "    </tr>\n",
              "    <tr>\n",
              "      <th>3</th>\n",
              "      <td>224890.0</td>\n",
              "    </tr>\n",
              "    <tr>\n",
              "      <th>4</th>\n",
              "      <td>45856.0</td>\n",
              "    </tr>\n",
              "  </tbody>\n",
              "</table>\n",
              "</div><br><label><b>dtype:</b> float64</label>"
            ]
          },
          "metadata": {},
          "execution_count": 10
        }
      ]
    },
    {
      "cell_type": "code",
      "source": [
        "df_forecast = df[df[target_column].isna()]\n",
        "df_forecast.head()"
      ],
      "metadata": {
        "colab": {
          "base_uri": "https://localhost:8080/",
          "height": 313
        },
        "id": "t-I1UNoltmXn",
        "outputId": "ba7579a8-7acf-4f35-f0cb-e9428a5b0491"
      },
      "execution_count": 11,
      "outputs": [
        {
          "output_type": "execute_result",
          "data": {
            "text/plain": [
              "         date  deposit_growth_rubles_mln  ofz_yield_upto_1_year  key_rate  \\\n",
              "72 2017-01-01                        NaN               8.416190     10.00   \n",
              "73 2017-02-01                        NaN               8.830526     10.00   \n",
              "74 2017-03-01                        NaN               8.987727      9.75   \n",
              "75 2017-04-01                        NaN               8.655263      9.75   \n",
              "76 2017-05-01                        NaN               8.319500      9.25   \n",
              "\n",
              "    deposit_rate_dollars_upto_1_year  deposit_rate_rubles_upto_1_year  \\\n",
              "72                              0.79                             6.50   \n",
              "73                              0.77                             6.30   \n",
              "74                              0.80                             5.91   \n",
              "75                              0.52                             6.25   \n",
              "76                              0.76                             6.10   \n",
              "\n",
              "    urals_oil_usd_per_barrel  consumer_price_index  m0_bln_rubles  \\\n",
              "72                     54.89             166.43472    7714.777071   \n",
              "73                     55.49             166.80087    7543.682136   \n",
              "74                     51.97             167.01772    7587.379089   \n",
              "75                     53.06             167.56887    7610.346801   \n",
              "76                     50.87             168.18888    7775.286453   \n",
              "\n",
              "    m2_bln_rubles  usd_to_rub_exchange_rate  average_nominal_salary_rubles  \\\n",
              "72   38417.973904                     59.96                          34422   \n",
              "73   38016.827597                     58.39                          35497   \n",
              "74   38462.292674                     58.10                          37899   \n",
              "75   38555.203677                     56.43                          39225   \n",
              "76   38663.774533                     57.17                          39679   \n",
              "\n",
              "    time_idx  \n",
              "72        72  \n",
              "73        73  \n",
              "74        74  \n",
              "75        75  \n",
              "76        76  "
            ],
            "text/html": [
              "\n",
              "  <div id=\"df-33215b5c-4b0b-4482-9a14-176795b644e6\" class=\"colab-df-container\">\n",
              "    <div>\n",
              "<style scoped>\n",
              "    .dataframe tbody tr th:only-of-type {\n",
              "        vertical-align: middle;\n",
              "    }\n",
              "\n",
              "    .dataframe tbody tr th {\n",
              "        vertical-align: top;\n",
              "    }\n",
              "\n",
              "    .dataframe thead th {\n",
              "        text-align: right;\n",
              "    }\n",
              "</style>\n",
              "<table border=\"1\" class=\"dataframe\">\n",
              "  <thead>\n",
              "    <tr style=\"text-align: right;\">\n",
              "      <th></th>\n",
              "      <th>date</th>\n",
              "      <th>deposit_growth_rubles_mln</th>\n",
              "      <th>ofz_yield_upto_1_year</th>\n",
              "      <th>key_rate</th>\n",
              "      <th>deposit_rate_dollars_upto_1_year</th>\n",
              "      <th>deposit_rate_rubles_upto_1_year</th>\n",
              "      <th>urals_oil_usd_per_barrel</th>\n",
              "      <th>consumer_price_index</th>\n",
              "      <th>m0_bln_rubles</th>\n",
              "      <th>m2_bln_rubles</th>\n",
              "      <th>usd_to_rub_exchange_rate</th>\n",
              "      <th>average_nominal_salary_rubles</th>\n",
              "      <th>time_idx</th>\n",
              "    </tr>\n",
              "  </thead>\n",
              "  <tbody>\n",
              "    <tr>\n",
              "      <th>72</th>\n",
              "      <td>2017-01-01</td>\n",
              "      <td>NaN</td>\n",
              "      <td>8.416190</td>\n",
              "      <td>10.00</td>\n",
              "      <td>0.79</td>\n",
              "      <td>6.50</td>\n",
              "      <td>54.89</td>\n",
              "      <td>166.43472</td>\n",
              "      <td>7714.777071</td>\n",
              "      <td>38417.973904</td>\n",
              "      <td>59.96</td>\n",
              "      <td>34422</td>\n",
              "      <td>72</td>\n",
              "    </tr>\n",
              "    <tr>\n",
              "      <th>73</th>\n",
              "      <td>2017-02-01</td>\n",
              "      <td>NaN</td>\n",
              "      <td>8.830526</td>\n",
              "      <td>10.00</td>\n",
              "      <td>0.77</td>\n",
              "      <td>6.30</td>\n",
              "      <td>55.49</td>\n",
              "      <td>166.80087</td>\n",
              "      <td>7543.682136</td>\n",
              "      <td>38016.827597</td>\n",
              "      <td>58.39</td>\n",
              "      <td>35497</td>\n",
              "      <td>73</td>\n",
              "    </tr>\n",
              "    <tr>\n",
              "      <th>74</th>\n",
              "      <td>2017-03-01</td>\n",
              "      <td>NaN</td>\n",
              "      <td>8.987727</td>\n",
              "      <td>9.75</td>\n",
              "      <td>0.80</td>\n",
              "      <td>5.91</td>\n",
              "      <td>51.97</td>\n",
              "      <td>167.01772</td>\n",
              "      <td>7587.379089</td>\n",
              "      <td>38462.292674</td>\n",
              "      <td>58.10</td>\n",
              "      <td>37899</td>\n",
              "      <td>74</td>\n",
              "    </tr>\n",
              "    <tr>\n",
              "      <th>75</th>\n",
              "      <td>2017-04-01</td>\n",
              "      <td>NaN</td>\n",
              "      <td>8.655263</td>\n",
              "      <td>9.75</td>\n",
              "      <td>0.52</td>\n",
              "      <td>6.25</td>\n",
              "      <td>53.06</td>\n",
              "      <td>167.56887</td>\n",
              "      <td>7610.346801</td>\n",
              "      <td>38555.203677</td>\n",
              "      <td>56.43</td>\n",
              "      <td>39225</td>\n",
              "      <td>75</td>\n",
              "    </tr>\n",
              "    <tr>\n",
              "      <th>76</th>\n",
              "      <td>2017-05-01</td>\n",
              "      <td>NaN</td>\n",
              "      <td>8.319500</td>\n",
              "      <td>9.25</td>\n",
              "      <td>0.76</td>\n",
              "      <td>6.10</td>\n",
              "      <td>50.87</td>\n",
              "      <td>168.18888</td>\n",
              "      <td>7775.286453</td>\n",
              "      <td>38663.774533</td>\n",
              "      <td>57.17</td>\n",
              "      <td>39679</td>\n",
              "      <td>76</td>\n",
              "    </tr>\n",
              "  </tbody>\n",
              "</table>\n",
              "</div>\n",
              "    <div class=\"colab-df-buttons\">\n",
              "\n",
              "  <div class=\"colab-df-container\">\n",
              "    <button class=\"colab-df-convert\" onclick=\"convertToInteractive('df-33215b5c-4b0b-4482-9a14-176795b644e6')\"\n",
              "            title=\"Convert this dataframe to an interactive table.\"\n",
              "            style=\"display:none;\">\n",
              "\n",
              "  <svg xmlns=\"http://www.w3.org/2000/svg\" height=\"24px\" viewBox=\"0 -960 960 960\">\n",
              "    <path d=\"M120-120v-720h720v720H120Zm60-500h600v-160H180v160Zm220 220h160v-160H400v160Zm0 220h160v-160H400v160ZM180-400h160v-160H180v160Zm440 0h160v-160H620v160ZM180-180h160v-160H180v160Zm440 0h160v-160H620v160Z\"/>\n",
              "  </svg>\n",
              "    </button>\n",
              "\n",
              "  <style>\n",
              "    .colab-df-container {\n",
              "      display:flex;\n",
              "      gap: 12px;\n",
              "    }\n",
              "\n",
              "    .colab-df-convert {\n",
              "      background-color: #E8F0FE;\n",
              "      border: none;\n",
              "      border-radius: 50%;\n",
              "      cursor: pointer;\n",
              "      display: none;\n",
              "      fill: #1967D2;\n",
              "      height: 32px;\n",
              "      padding: 0 0 0 0;\n",
              "      width: 32px;\n",
              "    }\n",
              "\n",
              "    .colab-df-convert:hover {\n",
              "      background-color: #E2EBFA;\n",
              "      box-shadow: 0px 1px 2px rgba(60, 64, 67, 0.3), 0px 1px 3px 1px rgba(60, 64, 67, 0.15);\n",
              "      fill: #174EA6;\n",
              "    }\n",
              "\n",
              "    .colab-df-buttons div {\n",
              "      margin-bottom: 4px;\n",
              "    }\n",
              "\n",
              "    [theme=dark] .colab-df-convert {\n",
              "      background-color: #3B4455;\n",
              "      fill: #D2E3FC;\n",
              "    }\n",
              "\n",
              "    [theme=dark] .colab-df-convert:hover {\n",
              "      background-color: #434B5C;\n",
              "      box-shadow: 0px 1px 3px 1px rgba(0, 0, 0, 0.15);\n",
              "      filter: drop-shadow(0px 1px 2px rgba(0, 0, 0, 0.3));\n",
              "      fill: #FFFFFF;\n",
              "    }\n",
              "  </style>\n",
              "\n",
              "    <script>\n",
              "      const buttonEl =\n",
              "        document.querySelector('#df-33215b5c-4b0b-4482-9a14-176795b644e6 button.colab-df-convert');\n",
              "      buttonEl.style.display =\n",
              "        google.colab.kernel.accessAllowed ? 'block' : 'none';\n",
              "\n",
              "      async function convertToInteractive(key) {\n",
              "        const element = document.querySelector('#df-33215b5c-4b0b-4482-9a14-176795b644e6');\n",
              "        const dataTable =\n",
              "          await google.colab.kernel.invokeFunction('convertToInteractive',\n",
              "                                                    [key], {});\n",
              "        if (!dataTable) return;\n",
              "\n",
              "        const docLinkHtml = 'Like what you see? Visit the ' +\n",
              "          '<a target=\"_blank\" href=https://colab.research.google.com/notebooks/data_table.ipynb>data table notebook</a>'\n",
              "          + ' to learn more about interactive tables.';\n",
              "        element.innerHTML = '';\n",
              "        dataTable['output_type'] = 'display_data';\n",
              "        await google.colab.output.renderOutput(dataTable, element);\n",
              "        const docLink = document.createElement('div');\n",
              "        docLink.innerHTML = docLinkHtml;\n",
              "        element.appendChild(docLink);\n",
              "      }\n",
              "    </script>\n",
              "  </div>\n",
              "\n",
              "\n",
              "<div id=\"df-2b932841-7e77-4656-83d7-63860ef4ede9\">\n",
              "  <button class=\"colab-df-quickchart\" onclick=\"quickchart('df-2b932841-7e77-4656-83d7-63860ef4ede9')\"\n",
              "            title=\"Suggest charts\"\n",
              "            style=\"display:none;\">\n",
              "\n",
              "<svg xmlns=\"http://www.w3.org/2000/svg\" height=\"24px\"viewBox=\"0 0 24 24\"\n",
              "     width=\"24px\">\n",
              "    <g>\n",
              "        <path d=\"M19 3H5c-1.1 0-2 .9-2 2v14c0 1.1.9 2 2 2h14c1.1 0 2-.9 2-2V5c0-1.1-.9-2-2-2zM9 17H7v-7h2v7zm4 0h-2V7h2v10zm4 0h-2v-4h2v4z\"/>\n",
              "    </g>\n",
              "</svg>\n",
              "  </button>\n",
              "\n",
              "<style>\n",
              "  .colab-df-quickchart {\n",
              "      --bg-color: #E8F0FE;\n",
              "      --fill-color: #1967D2;\n",
              "      --hover-bg-color: #E2EBFA;\n",
              "      --hover-fill-color: #174EA6;\n",
              "      --disabled-fill-color: #AAA;\n",
              "      --disabled-bg-color: #DDD;\n",
              "  }\n",
              "\n",
              "  [theme=dark] .colab-df-quickchart {\n",
              "      --bg-color: #3B4455;\n",
              "      --fill-color: #D2E3FC;\n",
              "      --hover-bg-color: #434B5C;\n",
              "      --hover-fill-color: #FFFFFF;\n",
              "      --disabled-bg-color: #3B4455;\n",
              "      --disabled-fill-color: #666;\n",
              "  }\n",
              "\n",
              "  .colab-df-quickchart {\n",
              "    background-color: var(--bg-color);\n",
              "    border: none;\n",
              "    border-radius: 50%;\n",
              "    cursor: pointer;\n",
              "    display: none;\n",
              "    fill: var(--fill-color);\n",
              "    height: 32px;\n",
              "    padding: 0;\n",
              "    width: 32px;\n",
              "  }\n",
              "\n",
              "  .colab-df-quickchart:hover {\n",
              "    background-color: var(--hover-bg-color);\n",
              "    box-shadow: 0 1px 2px rgba(60, 64, 67, 0.3), 0 1px 3px 1px rgba(60, 64, 67, 0.15);\n",
              "    fill: var(--button-hover-fill-color);\n",
              "  }\n",
              "\n",
              "  .colab-df-quickchart-complete:disabled,\n",
              "  .colab-df-quickchart-complete:disabled:hover {\n",
              "    background-color: var(--disabled-bg-color);\n",
              "    fill: var(--disabled-fill-color);\n",
              "    box-shadow: none;\n",
              "  }\n",
              "\n",
              "  .colab-df-spinner {\n",
              "    border: 2px solid var(--fill-color);\n",
              "    border-color: transparent;\n",
              "    border-bottom-color: var(--fill-color);\n",
              "    animation:\n",
              "      spin 1s steps(1) infinite;\n",
              "  }\n",
              "\n",
              "  @keyframes spin {\n",
              "    0% {\n",
              "      border-color: transparent;\n",
              "      border-bottom-color: var(--fill-color);\n",
              "      border-left-color: var(--fill-color);\n",
              "    }\n",
              "    20% {\n",
              "      border-color: transparent;\n",
              "      border-left-color: var(--fill-color);\n",
              "      border-top-color: var(--fill-color);\n",
              "    }\n",
              "    30% {\n",
              "      border-color: transparent;\n",
              "      border-left-color: var(--fill-color);\n",
              "      border-top-color: var(--fill-color);\n",
              "      border-right-color: var(--fill-color);\n",
              "    }\n",
              "    40% {\n",
              "      border-color: transparent;\n",
              "      border-right-color: var(--fill-color);\n",
              "      border-top-color: var(--fill-color);\n",
              "    }\n",
              "    60% {\n",
              "      border-color: transparent;\n",
              "      border-right-color: var(--fill-color);\n",
              "    }\n",
              "    80% {\n",
              "      border-color: transparent;\n",
              "      border-right-color: var(--fill-color);\n",
              "      border-bottom-color: var(--fill-color);\n",
              "    }\n",
              "    90% {\n",
              "      border-color: transparent;\n",
              "      border-bottom-color: var(--fill-color);\n",
              "    }\n",
              "  }\n",
              "</style>\n",
              "\n",
              "  <script>\n",
              "    async function quickchart(key) {\n",
              "      const quickchartButtonEl =\n",
              "        document.querySelector('#' + key + ' button');\n",
              "      quickchartButtonEl.disabled = true;  // To prevent multiple clicks.\n",
              "      quickchartButtonEl.classList.add('colab-df-spinner');\n",
              "      try {\n",
              "        const charts = await google.colab.kernel.invokeFunction(\n",
              "            'suggestCharts', [key], {});\n",
              "      } catch (error) {\n",
              "        console.error('Error during call to suggestCharts:', error);\n",
              "      }\n",
              "      quickchartButtonEl.classList.remove('colab-df-spinner');\n",
              "      quickchartButtonEl.classList.add('colab-df-quickchart-complete');\n",
              "    }\n",
              "    (() => {\n",
              "      let quickchartButtonEl =\n",
              "        document.querySelector('#df-2b932841-7e77-4656-83d7-63860ef4ede9 button');\n",
              "      quickchartButtonEl.style.display =\n",
              "        google.colab.kernel.accessAllowed ? 'block' : 'none';\n",
              "    })();\n",
              "  </script>\n",
              "</div>\n",
              "\n",
              "    </div>\n",
              "  </div>\n"
            ],
            "application/vnd.google.colaboratory.intrinsic+json": {
              "type": "dataframe",
              "variable_name": "df_forecast",
              "summary": "{\n  \"name\": \"df_forecast\",\n  \"rows\": 12,\n  \"fields\": [\n    {\n      \"column\": \"date\",\n      \"properties\": {\n        \"dtype\": \"date\",\n        \"min\": \"2017-01-01 00:00:00\",\n        \"max\": \"2017-12-01 00:00:00\",\n        \"num_unique_values\": 12,\n        \"samples\": [\n          \"2017-11-01 00:00:00\",\n          \"2017-10-01 00:00:00\",\n          \"2017-01-01 00:00:00\"\n        ],\n        \"semantic_type\": \"\",\n        \"description\": \"\"\n      }\n    },\n    {\n      \"column\": \"deposit_growth_rubles_mln\",\n      \"properties\": {\n        \"dtype\": \"number\",\n        \"std\": null,\n        \"min\": null,\n        \"max\": null,\n        \"num_unique_values\": 0,\n        \"samples\": [],\n        \"semantic_type\": \"\",\n        \"description\": \"\"\n      }\n    },\n    {\n      \"column\": \"ofz_yield_upto_1_year\",\n      \"properties\": {\n        \"dtype\": \"number\",\n        \"std\": 0.6138837469326427,\n        \"min\": 6.9780952380952375,\n        \"max\": 8.987727272727271,\n        \"num_unique_values\": 12,\n        \"samples\": [],\n        \"semantic_type\": \"\",\n        \"description\": \"\"\n      }\n    },\n    {\n      \"column\": \"key_rate\",\n      \"properties\": {\n        \"dtype\": \"number\",\n        \"std\": 0.7449323743966579,\n        \"min\": 7.75,\n        \"max\": 10.0,\n        \"num_unique_values\": 7,\n        \"samples\": [],\n        \"semantic_type\": \"\",\n        \"description\": \"\"\n      }\n    },\n    {\n      \"column\": \"deposit_rate_dollars_upto_1_year\",\n      \"properties\": {\n        \"dtype\": \"number\",\n        \"std\": 0.08299324543526893,\n        \"min\": 0.52,\n        \"max\": 0.8,\n        \"num_unique_values\": 10,\n        \"samples\": [],\n        \"semantic_type\": \"\",\n        \"description\": \"\"\n      }\n    },\n    {\n      \"column\": \"deposit_rate_rubles_upto_1_year\",\n      \"properties\": {\n        \"dtype\": \"number\",\n        \"std\": 0.4346672360100381,\n        \"min\": 5.18,\n        \"max\": 6.5,\n        \"num_unique_values\": 11,\n        \"samples\": [],\n        \"semantic_type\": \"\",\n        \"description\": \"\"\n      }\n    },\n    {\n      \"column\": \"urals_oil_usd_per_barrel\",\n      \"properties\": {\n        \"dtype\": \"number\",\n        \"std\": 5.39295240161274,\n        \"min\": 46.89,\n        \"max\": 64.9,\n        \"num_unique_values\": 12,\n        \"samples\": [],\n        \"semantic_type\": \"\",\n        \"description\": \"\"\n      }\n    },\n    {\n      \"column\": \"consumer_price_index\",\n      \"properties\": {\n        \"dtype\": \"number\",\n        \"std\": 1.0266050735184087,\n        \"min\": 166.43472,\n        \"max\": 169.560950418,\n        \"num_unique_values\": 12,\n        \"samples\": [],\n        \"semantic_type\": \"\",\n        \"description\": \"\"\n      }\n    },\n    {\n      \"column\": \"m0_bln_rubles\",\n      \"properties\": {\n        \"dtype\": \"number\",\n        \"std\": 211.27187973289202,\n        \"min\": 7543.682136,\n        \"max\": 8089.527215,\n        \"num_unique_values\": 12,\n        \"samples\": [],\n        \"semantic_type\": \"\",\n        \"description\": \"\"\n      }\n    },\n    {\n      \"column\": \"m2_bln_rubles\",\n      \"properties\": {\n        \"dtype\": \"number\",\n        \"std\": 641.2831008521559,\n        \"min\": 38016.82759726,\n        \"max\": 40114.408277790004,\n        \"num_unique_values\": 12,\n        \"samples\": [],\n        \"semantic_type\": \"\",\n        \"description\": \"\"\n      }\n    },\n    {\n      \"column\": \"usd_to_rub_exchange_rate\",\n      \"properties\": {\n        \"dtype\": \"number\",\n        \"std\": 1.071299126379658,\n        \"min\": 56.43,\n        \"max\": 59.96,\n        \"num_unique_values\": 12,\n        \"samples\": [],\n        \"semantic_type\": \"\",\n        \"description\": \"\"\n      }\n    },\n    {\n      \"column\": \"average_nominal_salary_rubles\",\n      \"properties\": {\n        \"dtype\": \"number\",\n        \"std\": 4033,\n        \"min\": 34422,\n        \"max\": 50500,\n        \"num_unique_values\": 12,\n        \"samples\": [],\n        \"semantic_type\": \"\",\n        \"description\": \"\"\n      }\n    },\n    {\n      \"column\": \"time_idx\",\n      \"properties\": {\n        \"dtype\": \"number\",\n        \"std\": 3,\n        \"min\": 72,\n        \"max\": 83,\n        \"num_unique_values\": 12,\n        \"samples\": [],\n        \"semantic_type\": \"\",\n        \"description\": \"\"\n      }\n    }\n  ]\n}"
            }
          },
          "metadata": {},
          "execution_count": 11
        }
      ]
    },
    {
      "cell_type": "markdown",
      "source": [
        "5. Функция генерации временного ряда на основе данных из DataFrame"
      ],
      "metadata": {
        "id": "nz7iKxsksN4y"
      }
    },
    {
      "cell_type": "code",
      "source": [
        "def generate_time_series_data_from_df(df, target_column=\"deposit_growth_rubles_mln\", sequence_length=50):\n",
        "    series = df.drop(columns=[\"date\", \"time_idx\", target_column]).values  # Убираем колонки \"date\", \"time_idx\" и target column, берем остальные данные\n",
        "    y = df[target_column].values  # Целевая переменная\n",
        "\n",
        "    # Нормализация данных\n",
        "    scaler = MinMaxScaler(feature_range=(-1, 1))\n",
        "    series = scaler.fit_transform(series)\n",
        "\n",
        "    y_scaler = MinMaxScaler(feature_range=(-1, 1))\n",
        "    y = y_scaler.fit_transform(y.reshape(-1, 1)).flatten()\n",
        "\n",
        "    X = []\n",
        "    Y = []\n",
        "    for i in range(len(series) - sequence_length):\n",
        "        X.append(series[i:i + sequence_length])\n",
        "        Y.append(y[i + sequence_length])\n",
        "\n",
        "    return np.array(X), np.array(Y), scaler, y_scaler"
      ],
      "metadata": {
        "id": "SiNp5xm-sU42"
      },
      "execution_count": 12,
      "outputs": []
    },
    {
      "cell_type": "markdown",
      "source": [
        "Генерация данных из DataFrame"
      ],
      "metadata": {
        "id": "k9lUdqOctuPK"
      }
    },
    {
      "cell_type": "code",
      "source": [
        "sequence_length = 2"
      ],
      "metadata": {
        "id": "2SzRocA1ttlA"
      },
      "execution_count": 13,
      "outputs": []
    },
    {
      "cell_type": "code",
      "source": [
        "X, Y, scaler, y_scaler = generate_time_series_data_from_df(df_train, sequence_length=sequence_length)\n",
        "train_size = int(0.9 * len(X))\n",
        "X_train, X_test = X[:train_size], X[train_size:]\n",
        "Y_train, Y_test = Y[:train_size], Y[train_size:]"
      ],
      "metadata": {
        "id": "b8afzumpt5aR"
      },
      "execution_count": 14,
      "outputs": []
    },
    {
      "cell_type": "code",
      "source": [
        "X_train[1]"
      ],
      "metadata": {
        "colab": {
          "base_uri": "https://localhost:8080/"
        },
        "id": "CokAu0mFRhcF",
        "outputId": "08838bf3-9d3b-4cb0-bff3-9fa21091bd1c"
      },
      "execution_count": 15,
      "outputs": [
        {
          "output_type": "execute_result",
          "data": {
            "text/plain": [
              "array([[-0.88887145, -0.56521739,  0.05986696, -0.90396158,  0.55444598,\n",
              "        -0.97204043, -1.        , -1.        , -0.94245187, -0.9991817 ],\n",
              "       [-0.91218239, -0.56521739,  0.05986696, -0.95198079,  0.77711675,\n",
              "        -0.94964252, -0.94885425, -0.9732559 , -0.97730496, -0.85092059]])"
            ]
          },
          "metadata": {},
          "execution_count": 15
        }
      ]
    },
    {
      "cell_type": "markdown",
      "source": [
        "6. Создаем датасет"
      ],
      "metadata": {
        "id": "hGKkh9pht-ry"
      }
    },
    {
      "cell_type": "code",
      "source": [
        "class TimeSeriesDataset(Dataset):\n",
        "    def __init__(self, X, Y):\n",
        "        self.X = torch.from_numpy(X).float()\n",
        "        self.Y = torch.from_numpy(Y).float()\n",
        "\n",
        "    def __len__(self):\n",
        "        return len(self.X)\n",
        "\n",
        "    def __getitem__(self, idx):\n",
        "        return self.X[idx], self.Y[idx]"
      ],
      "metadata": {
        "id": "aqqsUNrit__6"
      },
      "execution_count": 16,
      "outputs": []
    },
    {
      "cell_type": "code",
      "source": [
        "train_dataset = TimeSeriesDataset(X_train, Y_train)\n",
        "test_dataset = TimeSeriesDataset(X_test, Y_test)"
      ],
      "metadata": {
        "id": "qRuK4ma_uNH0"
      },
      "execution_count": 17,
      "outputs": []
    },
    {
      "cell_type": "code",
      "source": [
        "train_loader = DataLoader(train_dataset, batch_size=32, shuffle=True)\n",
        "test_loader = DataLoader(test_dataset, batch_size=32, shuffle=False)"
      ],
      "metadata": {
        "id": "FUyun2EiuhkU"
      },
      "execution_count": 18,
      "outputs": []
    },
    {
      "cell_type": "markdown",
      "source": [
        "7. Модель N-BEATS"
      ],
      "metadata": {
        "id": "MANLHUR2yWcQ"
      }
    },
    {
      "cell_type": "code",
      "source": [
        "class NBeatsBlock(nn.Module):\n",
        "    def __init__(self, input_size, num_hidden, forecast_length):\n",
        "        super(NBeatsBlock, self).__init__()\n",
        "        self.fc1 = nn.Linear(input_size, num_hidden)\n",
        "        self.fc2 = nn.Linear(num_hidden, num_hidden)\n",
        "        self.fc3 = nn.Linear(num_hidden, num_hidden)\n",
        "        self.fc4 = nn.Linear(num_hidden, forecast_length)\n",
        "        self.relu = nn.ReLU()\n",
        "\n",
        "    def forward(self, x):\n",
        "        x = self.relu(self.fc1(x))\n",
        "        x = self.relu(self.fc2(x))\n",
        "        x = self.relu(self.fc3(x))\n",
        "        return self.fc4(x)"
      ],
      "metadata": {
        "id": "8vrUnFmDyV7w"
      },
      "execution_count": 19,
      "outputs": []
    },
    {
      "cell_type": "code",
      "source": [
        "class NBeats(nn.Module):\n",
        "    def __init__(self, input_size, num_blocks, num_hidden, forecast_length):\n",
        "        super(NBeats, self).__init__()\n",
        "        self.blocks = nn.ModuleList([NBeatsBlock(input_size, num_hidden, forecast_length) for _ in range(num_blocks)])\n",
        "\n",
        "    def forward(self, x):\n",
        "        x = x.reshape(x.size(0), -1)  # Flatten input\n",
        "        out = torch.zeros(x.size(0), 1).to(x.device)\n",
        "        for block in self.blocks:\n",
        "            out += block(x)\n",
        "        return out"
      ],
      "metadata": {
        "id": "NHxEjLnryZ85"
      },
      "execution_count": 20,
      "outputs": []
    },
    {
      "cell_type": "markdown",
      "source": [
        "Параметры модели\n"
      ],
      "metadata": {
        "id": "bunX2sQZyfbK"
      }
    },
    {
      "cell_type": "code",
      "source": [
        "input_size = X.shape[2] * sequence_length  # Количество признаков на каждом шаге * длина последовательности\n",
        "num_blocks = 3\n",
        "num_hidden = 128\n",
        "forecast_length = 1  # Мы предсказываем 1 значение"
      ],
      "metadata": {
        "id": "1kuXIhnLyhzB"
      },
      "execution_count": 21,
      "outputs": []
    },
    {
      "cell_type": "code",
      "source": [
        "model = NBeats(input_size, num_blocks, num_hidden, forecast_length)\n",
        "criterion = nn.MSELoss()\n",
        "optimizer = torch.optim.Adam(model.parameters(), lr=0.001)"
      ],
      "metadata": {
        "id": "a_Nj8H6gyj68"
      },
      "execution_count": 22,
      "outputs": []
    },
    {
      "cell_type": "markdown",
      "source": [
        "8. Тренировка модели"
      ],
      "metadata": {
        "id": "eDHlakIlyo07"
      }
    },
    {
      "cell_type": "code",
      "source": [
        "epochs = 350\n",
        "for epoch in range(epochs):\n",
        "    model.train()\n",
        "    train_loss = 0\n",
        "    for batch_X, batch_Y in train_loader:\n",
        "        batch_X = batch_X.view(batch_X.size(0), -1)  # Сплющивание входных данных для совместимости\n",
        "        optimizer.zero_grad()\n",
        "        predictions = model(batch_X).squeeze(-1)\n",
        "        loss = criterion(predictions, batch_Y)\n",
        "        loss.backward()\n",
        "        optimizer.step()\n",
        "        train_loss += loss.item()\n",
        "\n",
        "    print(f\"Epoch {epoch+1}/{epochs}, Loss: {train_loss/len(train_loader):.4f}\")"
      ],
      "metadata": {
        "colab": {
          "base_uri": "https://localhost:8080/"
        },
        "id": "gEgGWc0GyvhM",
        "outputId": "749d0cb4-0d7a-4120-ac2f-71828a13b682"
      },
      "execution_count": 23,
      "outputs": [
        {
          "output_type": "stream",
          "name": "stdout",
          "text": [
            "Epoch 1/350, Loss: 0.1051\n",
            "Epoch 2/350, Loss: 0.1129\n",
            "Epoch 3/350, Loss: 0.0957\n",
            "Epoch 4/350, Loss: 0.0961\n",
            "Epoch 5/350, Loss: 0.0931\n",
            "Epoch 6/350, Loss: 0.0882\n",
            "Epoch 7/350, Loss: 0.0899\n",
            "Epoch 8/350, Loss: 0.0874\n",
            "Epoch 9/350, Loss: 0.0840\n",
            "Epoch 10/350, Loss: 0.0816\n",
            "Epoch 11/350, Loss: 0.0802\n",
            "Epoch 12/350, Loss: 0.0770\n",
            "Epoch 13/350, Loss: 0.0749\n",
            "Epoch 14/350, Loss: 0.0733\n",
            "Epoch 15/350, Loss: 0.0719\n",
            "Epoch 16/350, Loss: 0.0686\n",
            "Epoch 17/350, Loss: 0.0672\n",
            "Epoch 18/350, Loss: 0.0651\n",
            "Epoch 19/350, Loss: 0.0636\n",
            "Epoch 20/350, Loss: 0.0607\n",
            "Epoch 21/350, Loss: 0.0584\n",
            "Epoch 22/350, Loss: 0.0589\n",
            "Epoch 23/350, Loss: 0.0544\n",
            "Epoch 24/350, Loss: 0.0534\n",
            "Epoch 25/350, Loss: 0.0516\n",
            "Epoch 26/350, Loss: 0.0490\n",
            "Epoch 27/350, Loss: 0.0490\n",
            "Epoch 28/350, Loss: 0.0454\n",
            "Epoch 29/350, Loss: 0.0466\n",
            "Epoch 30/350, Loss: 0.0429\n",
            "Epoch 31/350, Loss: 0.0424\n",
            "Epoch 32/350, Loss: 0.0419\n",
            "Epoch 33/350, Loss: 0.0400\n",
            "Epoch 34/350, Loss: 0.0388\n",
            "Epoch 35/350, Loss: 0.0366\n",
            "Epoch 36/350, Loss: 0.0365\n",
            "Epoch 37/350, Loss: 0.0352\n",
            "Epoch 38/350, Loss: 0.0342\n",
            "Epoch 39/350, Loss: 0.0331\n",
            "Epoch 40/350, Loss: 0.0315\n",
            "Epoch 41/350, Loss: 0.0345\n",
            "Epoch 42/350, Loss: 0.0374\n",
            "Epoch 43/350, Loss: 0.0299\n",
            "Epoch 44/350, Loss: 0.0318\n",
            "Epoch 45/350, Loss: 0.0289\n",
            "Epoch 46/350, Loss: 0.0298\n",
            "Epoch 47/350, Loss: 0.0288\n",
            "Epoch 48/350, Loss: 0.0276\n",
            "Epoch 49/350, Loss: 0.0255\n",
            "Epoch 50/350, Loss: 0.0292\n",
            "Epoch 51/350, Loss: 0.0256\n",
            "Epoch 52/350, Loss: 0.0254\n",
            "Epoch 53/350, Loss: 0.0254\n",
            "Epoch 54/350, Loss: 0.0233\n",
            "Epoch 55/350, Loss: 0.0247\n",
            "Epoch 56/350, Loss: 0.0244\n",
            "Epoch 57/350, Loss: 0.0277\n",
            "Epoch 58/350, Loss: 0.0257\n",
            "Epoch 59/350, Loss: 0.0215\n",
            "Epoch 60/350, Loss: 0.0280\n",
            "Epoch 61/350, Loss: 0.0205\n",
            "Epoch 62/350, Loss: 0.0240\n",
            "Epoch 63/350, Loss: 0.0284\n",
            "Epoch 64/350, Loss: 0.0195\n",
            "Epoch 65/350, Loss: 0.0253\n",
            "Epoch 66/350, Loss: 0.0227\n",
            "Epoch 67/350, Loss: 0.0215\n",
            "Epoch 68/350, Loss: 0.0233\n",
            "Epoch 69/350, Loss: 0.0178\n",
            "Epoch 70/350, Loss: 0.0200\n",
            "Epoch 71/350, Loss: 0.0197\n",
            "Epoch 72/350, Loss: 0.0167\n",
            "Epoch 73/350, Loss: 0.0189\n",
            "Epoch 74/350, Loss: 0.0158\n",
            "Epoch 75/350, Loss: 0.0166\n",
            "Epoch 76/350, Loss: 0.0164\n",
            "Epoch 77/350, Loss: 0.0196\n",
            "Epoch 78/350, Loss: 0.0145\n",
            "Epoch 79/350, Loss: 0.0163\n",
            "Epoch 80/350, Loss: 0.0156\n",
            "Epoch 81/350, Loss: 0.0140\n",
            "Epoch 82/350, Loss: 0.0155\n",
            "Epoch 83/350, Loss: 0.0134\n",
            "Epoch 84/350, Loss: 0.0141\n",
            "Epoch 85/350, Loss: 0.0150\n",
            "Epoch 86/350, Loss: 0.0146\n",
            "Epoch 87/350, Loss: 0.0155\n",
            "Epoch 88/350, Loss: 0.0138\n",
            "Epoch 89/350, Loss: 0.0144\n",
            "Epoch 90/350, Loss: 0.0120\n",
            "Epoch 91/350, Loss: 0.0133\n",
            "Epoch 92/350, Loss: 0.0126\n",
            "Epoch 93/350, Loss: 0.0113\n",
            "Epoch 94/350, Loss: 0.0129\n",
            "Epoch 95/350, Loss: 0.0114\n",
            "Epoch 96/350, Loss: 0.0116\n",
            "Epoch 97/350, Loss: 0.0123\n",
            "Epoch 98/350, Loss: 0.0101\n",
            "Epoch 99/350, Loss: 0.0108\n",
            "Epoch 100/350, Loss: 0.0108\n",
            "Epoch 101/350, Loss: 0.0103\n",
            "Epoch 102/350, Loss: 0.0096\n",
            "Epoch 103/350, Loss: 0.0099\n",
            "Epoch 104/350, Loss: 0.0120\n",
            "Epoch 105/350, Loss: 0.0127\n",
            "Epoch 106/350, Loss: 0.0148\n",
            "Epoch 107/350, Loss: 0.0091\n",
            "Epoch 108/350, Loss: 0.0185\n",
            "Epoch 109/350, Loss: 0.0155\n",
            "Epoch 110/350, Loss: 0.0107\n",
            "Epoch 111/350, Loss: 0.0142\n",
            "Epoch 112/350, Loss: 0.0134\n",
            "Epoch 113/350, Loss: 0.0115\n",
            "Epoch 114/350, Loss: 0.0125\n",
            "Epoch 115/350, Loss: 0.0134\n",
            "Epoch 116/350, Loss: 0.0103\n",
            "Epoch 117/350, Loss: 0.0102\n",
            "Epoch 118/350, Loss: 0.0126\n",
            "Epoch 119/350, Loss: 0.0090\n",
            "Epoch 120/350, Loss: 0.0115\n",
            "Epoch 121/350, Loss: 0.0099\n",
            "Epoch 122/350, Loss: 0.0113\n",
            "Epoch 123/350, Loss: 0.0108\n",
            "Epoch 124/350, Loss: 0.0097\n",
            "Epoch 125/350, Loss: 0.0114\n",
            "Epoch 126/350, Loss: 0.0077\n",
            "Epoch 127/350, Loss: 0.0092\n",
            "Epoch 128/350, Loss: 0.0080\n",
            "Epoch 129/350, Loss: 0.0068\n",
            "Epoch 130/350, Loss: 0.0071\n",
            "Epoch 131/350, Loss: 0.0064\n",
            "Epoch 132/350, Loss: 0.0059\n",
            "Epoch 133/350, Loss: 0.0058\n",
            "Epoch 134/350, Loss: 0.0058\n",
            "Epoch 135/350, Loss: 0.0065\n",
            "Epoch 136/350, Loss: 0.0058\n",
            "Epoch 137/350, Loss: 0.0052\n",
            "Epoch 138/350, Loss: 0.0053\n",
            "Epoch 139/350, Loss: 0.0054\n",
            "Epoch 140/350, Loss: 0.0052\n",
            "Epoch 141/350, Loss: 0.0047\n",
            "Epoch 142/350, Loss: 0.0048\n",
            "Epoch 143/350, Loss: 0.0068\n",
            "Epoch 144/350, Loss: 0.0050\n",
            "Epoch 145/350, Loss: 0.0047\n",
            "Epoch 146/350, Loss: 0.0054\n",
            "Epoch 147/350, Loss: 0.0049\n",
            "Epoch 148/350, Loss: 0.0041\n",
            "Epoch 149/350, Loss: 0.0042\n",
            "Epoch 150/350, Loss: 0.0041\n",
            "Epoch 151/350, Loss: 0.0036\n",
            "Epoch 152/350, Loss: 0.0041\n",
            "Epoch 153/350, Loss: 0.0045\n",
            "Epoch 154/350, Loss: 0.0057\n",
            "Epoch 155/350, Loss: 0.0045\n",
            "Epoch 156/350, Loss: 0.0035\n",
            "Epoch 157/350, Loss: 0.0053\n",
            "Epoch 158/350, Loss: 0.0058\n",
            "Epoch 159/350, Loss: 0.0074\n",
            "Epoch 160/350, Loss: 0.0063\n",
            "Epoch 161/350, Loss: 0.0053\n",
            "Epoch 162/350, Loss: 0.0065\n",
            "Epoch 163/350, Loss: 0.0064\n",
            "Epoch 164/350, Loss: 0.0045\n",
            "Epoch 165/350, Loss: 0.0053\n",
            "Epoch 166/350, Loss: 0.0068\n",
            "Epoch 167/350, Loss: 0.0062\n",
            "Epoch 168/350, Loss: 0.0049\n",
            "Epoch 169/350, Loss: 0.0064\n",
            "Epoch 170/350, Loss: 0.0060\n",
            "Epoch 171/350, Loss: 0.0036\n",
            "Epoch 172/350, Loss: 0.0063\n",
            "Epoch 173/350, Loss: 0.0024\n",
            "Epoch 174/350, Loss: 0.0039\n",
            "Epoch 175/350, Loss: 0.0039\n",
            "Epoch 176/350, Loss: 0.0042\n",
            "Epoch 177/350, Loss: 0.0038\n",
            "Epoch 178/350, Loss: 0.0032\n",
            "Epoch 179/350, Loss: 0.0041\n",
            "Epoch 180/350, Loss: 0.0049\n",
            "Epoch 181/350, Loss: 0.0040\n",
            "Epoch 182/350, Loss: 0.0031\n",
            "Epoch 183/350, Loss: 0.0036\n",
            "Epoch 184/350, Loss: 0.0037\n",
            "Epoch 185/350, Loss: 0.0021\n",
            "Epoch 186/350, Loss: 0.0031\n",
            "Epoch 187/350, Loss: 0.0023\n",
            "Epoch 188/350, Loss: 0.0025\n",
            "Epoch 189/350, Loss: 0.0019\n",
            "Epoch 190/350, Loss: 0.0019\n",
            "Epoch 191/350, Loss: 0.0021\n",
            "Epoch 192/350, Loss: 0.0018\n",
            "Epoch 193/350, Loss: 0.0026\n",
            "Epoch 194/350, Loss: 0.0024\n",
            "Epoch 195/350, Loss: 0.0018\n",
            "Epoch 196/350, Loss: 0.0023\n",
            "Epoch 197/350, Loss: 0.0025\n",
            "Epoch 198/350, Loss: 0.0028\n",
            "Epoch 199/350, Loss: 0.0024\n",
            "Epoch 200/350, Loss: 0.0020\n",
            "Epoch 201/350, Loss: 0.0034\n",
            "Epoch 202/350, Loss: 0.0026\n",
            "Epoch 203/350, Loss: 0.0022\n",
            "Epoch 204/350, Loss: 0.0020\n",
            "Epoch 205/350, Loss: 0.0017\n",
            "Epoch 206/350, Loss: 0.0025\n",
            "Epoch 207/350, Loss: 0.0016\n",
            "Epoch 208/350, Loss: 0.0014\n",
            "Epoch 209/350, Loss: 0.0013\n",
            "Epoch 210/350, Loss: 0.0014\n",
            "Epoch 211/350, Loss: 0.0015\n",
            "Epoch 212/350, Loss: 0.0011\n",
            "Epoch 213/350, Loss: 0.0011\n",
            "Epoch 214/350, Loss: 0.0010\n",
            "Epoch 215/350, Loss: 0.0013\n",
            "Epoch 216/350, Loss: 0.0009\n",
            "Epoch 217/350, Loss: 0.0009\n",
            "Epoch 218/350, Loss: 0.0011\n",
            "Epoch 219/350, Loss: 0.0009\n",
            "Epoch 220/350, Loss: 0.0010\n",
            "Epoch 221/350, Loss: 0.0010\n",
            "Epoch 222/350, Loss: 0.0010\n",
            "Epoch 223/350, Loss: 0.0008\n",
            "Epoch 224/350, Loss: 0.0010\n",
            "Epoch 225/350, Loss: 0.0008\n",
            "Epoch 226/350, Loss: 0.0007\n",
            "Epoch 227/350, Loss: 0.0008\n",
            "Epoch 228/350, Loss: 0.0008\n",
            "Epoch 229/350, Loss: 0.0008\n",
            "Epoch 230/350, Loss: 0.0010\n",
            "Epoch 231/350, Loss: 0.0011\n",
            "Epoch 232/350, Loss: 0.0010\n",
            "Epoch 233/350, Loss: 0.0008\n",
            "Epoch 234/350, Loss: 0.0013\n",
            "Epoch 235/350, Loss: 0.0014\n",
            "Epoch 236/350, Loss: 0.0019\n",
            "Epoch 237/350, Loss: 0.0019\n",
            "Epoch 238/350, Loss: 0.0013\n",
            "Epoch 239/350, Loss: 0.0012\n",
            "Epoch 240/350, Loss: 0.0011\n",
            "Epoch 241/350, Loss: 0.0013\n",
            "Epoch 242/350, Loss: 0.0015\n",
            "Epoch 243/350, Loss: 0.0008\n",
            "Epoch 244/350, Loss: 0.0007\n",
            "Epoch 245/350, Loss: 0.0013\n",
            "Epoch 246/350, Loss: 0.0007\n",
            "Epoch 247/350, Loss: 0.0012\n",
            "Epoch 248/350, Loss: 0.0016\n",
            "Epoch 249/350, Loss: 0.0015\n",
            "Epoch 250/350, Loss: 0.0013\n",
            "Epoch 251/350, Loss: 0.0013\n",
            "Epoch 252/350, Loss: 0.0006\n",
            "Epoch 253/350, Loss: 0.0017\n",
            "Epoch 254/350, Loss: 0.0011\n",
            "Epoch 255/350, Loss: 0.0008\n",
            "Epoch 256/350, Loss: 0.0011\n",
            "Epoch 257/350, Loss: 0.0007\n",
            "Epoch 258/350, Loss: 0.0008\n",
            "Epoch 259/350, Loss: 0.0007\n",
            "Epoch 260/350, Loss: 0.0006\n",
            "Epoch 261/350, Loss: 0.0005\n",
            "Epoch 262/350, Loss: 0.0005\n",
            "Epoch 263/350, Loss: 0.0003\n",
            "Epoch 264/350, Loss: 0.0003\n",
            "Epoch 265/350, Loss: 0.0003\n",
            "Epoch 266/350, Loss: 0.0003\n",
            "Epoch 267/350, Loss: 0.0003\n",
            "Epoch 268/350, Loss: 0.0003\n",
            "Epoch 269/350, Loss: 0.0003\n",
            "Epoch 270/350, Loss: 0.0003\n",
            "Epoch 271/350, Loss: 0.0003\n",
            "Epoch 272/350, Loss: 0.0002\n",
            "Epoch 273/350, Loss: 0.0003\n",
            "Epoch 274/350, Loss: 0.0003\n",
            "Epoch 275/350, Loss: 0.0003\n",
            "Epoch 276/350, Loss: 0.0004\n",
            "Epoch 277/350, Loss: 0.0004\n",
            "Epoch 278/350, Loss: 0.0003\n",
            "Epoch 279/350, Loss: 0.0002\n",
            "Epoch 280/350, Loss: 0.0002\n",
            "Epoch 281/350, Loss: 0.0003\n",
            "Epoch 282/350, Loss: 0.0003\n",
            "Epoch 283/350, Loss: 0.0004\n",
            "Epoch 284/350, Loss: 0.0006\n",
            "Epoch 285/350, Loss: 0.0005\n",
            "Epoch 286/350, Loss: 0.0006\n",
            "Epoch 287/350, Loss: 0.0006\n",
            "Epoch 288/350, Loss: 0.0007\n",
            "Epoch 289/350, Loss: 0.0003\n",
            "Epoch 290/350, Loss: 0.0005\n",
            "Epoch 291/350, Loss: 0.0003\n",
            "Epoch 292/350, Loss: 0.0004\n",
            "Epoch 293/350, Loss: 0.0003\n",
            "Epoch 294/350, Loss: 0.0005\n",
            "Epoch 295/350, Loss: 0.0007\n",
            "Epoch 296/350, Loss: 0.0009\n",
            "Epoch 297/350, Loss: 0.0007\n",
            "Epoch 298/350, Loss: 0.0006\n",
            "Epoch 299/350, Loss: 0.0006\n",
            "Epoch 300/350, Loss: 0.0003\n",
            "Epoch 301/350, Loss: 0.0006\n",
            "Epoch 302/350, Loss: 0.0010\n",
            "Epoch 303/350, Loss: 0.0005\n",
            "Epoch 304/350, Loss: 0.0012\n",
            "Epoch 305/350, Loss: 0.0013\n",
            "Epoch 306/350, Loss: 0.0019\n",
            "Epoch 307/350, Loss: 0.0019\n",
            "Epoch 308/350, Loss: 0.0014\n",
            "Epoch 309/350, Loss: 0.0012\n",
            "Epoch 310/350, Loss: 0.0011\n",
            "Epoch 311/350, Loss: 0.0011\n",
            "Epoch 312/350, Loss: 0.0024\n",
            "Epoch 313/350, Loss: 0.0027\n",
            "Epoch 314/350, Loss: 0.0025\n",
            "Epoch 315/350, Loss: 0.0018\n",
            "Epoch 316/350, Loss: 0.0031\n",
            "Epoch 317/350, Loss: 0.0031\n",
            "Epoch 318/350, Loss: 0.0033\n",
            "Epoch 319/350, Loss: 0.0055\n",
            "Epoch 320/350, Loss: 0.0041\n",
            "Epoch 321/350, Loss: 0.0019\n",
            "Epoch 322/350, Loss: 0.0032\n",
            "Epoch 323/350, Loss: 0.0017\n",
            "Epoch 324/350, Loss: 0.0017\n",
            "Epoch 325/350, Loss: 0.0030\n",
            "Epoch 326/350, Loss: 0.0013\n",
            "Epoch 327/350, Loss: 0.0019\n",
            "Epoch 328/350, Loss: 0.0016\n",
            "Epoch 329/350, Loss: 0.0009\n",
            "Epoch 330/350, Loss: 0.0017\n",
            "Epoch 331/350, Loss: 0.0005\n",
            "Epoch 332/350, Loss: 0.0010\n",
            "Epoch 333/350, Loss: 0.0011\n",
            "Epoch 334/350, Loss: 0.0006\n",
            "Epoch 335/350, Loss: 0.0010\n",
            "Epoch 336/350, Loss: 0.0006\n",
            "Epoch 337/350, Loss: 0.0005\n",
            "Epoch 338/350, Loss: 0.0008\n",
            "Epoch 339/350, Loss: 0.0004\n",
            "Epoch 340/350, Loss: 0.0006\n",
            "Epoch 341/350, Loss: 0.0004\n",
            "Epoch 342/350, Loss: 0.0004\n",
            "Epoch 343/350, Loss: 0.0005\n",
            "Epoch 344/350, Loss: 0.0003\n",
            "Epoch 345/350, Loss: 0.0003\n",
            "Epoch 346/350, Loss: 0.0003\n",
            "Epoch 347/350, Loss: 0.0002\n",
            "Epoch 348/350, Loss: 0.0002\n",
            "Epoch 349/350, Loss: 0.0002\n",
            "Epoch 350/350, Loss: 0.0003\n"
          ]
        }
      ]
    },
    {
      "cell_type": "markdown",
      "source": [
        "Предсказание"
      ],
      "metadata": {
        "id": "BW8FSU3cGpdR"
      }
    },
    {
      "cell_type": "code",
      "source": [
        "model.eval()\n",
        "predictions = []\n",
        "actuals = []\n",
        "with torch.no_grad():\n",
        "    for batch_X, batch_Y in test_loader:\n",
        "        batch_X = batch_X.view(batch_X.size(0), -1)\n",
        "        preds = model(batch_X).squeeze(-1)\n",
        "        predictions.extend(preds.numpy())\n",
        "        actuals.extend(batch_Y.numpy())"
      ],
      "metadata": {
        "id": "YfyUHH-6Go8P"
      },
      "execution_count": 24,
      "outputs": []
    },
    {
      "cell_type": "markdown",
      "source": [
        "Обратное преобразование предсказаний"
      ],
      "metadata": {
        "id": "5L-azujZGv2E"
      }
    },
    {
      "cell_type": "code",
      "source": [
        "predictions = y_scaler.inverse_transform(np.array(predictions).reshape(-1, 1)).flatten()\n",
        "actuals = y_scaler.inverse_transform(np.array(actuals).reshape(-1, 1)).flatten()"
      ],
      "metadata": {
        "id": "lhDKep2dGwfB"
      },
      "execution_count": 25,
      "outputs": []
    },
    {
      "cell_type": "code",
      "source": [
        "plt.figure(figsize=(10, 6))\n",
        "plt.plot(actuals, label='Фактичские данные', color='blue')\n",
        "plt.plot(predictions, label='Предсказанные данные', color='red')\n",
        "plt.legend()\n",
        "plt.title(\"N-BEATS прогнозирование временных рядов\")\n",
        "plt.show()"
      ],
      "metadata": {
        "colab": {
          "base_uri": "https://localhost:8080/",
          "height": 545
        },
        "id": "8sn_CGokHnVz",
        "outputId": "4d4e608c-c331-4b1c-92a7-65d8301ab433"
      },
      "execution_count": 26,
      "outputs": [
        {
          "output_type": "display_data",
          "data": {
            "text/plain": [
              "<Figure size 1000x600 with 1 Axes>"
            ],
            "image/png": "[encoded data removed]"
          },
          "metadata": {}
        }
      ]
    },
    {
      "cell_type": "markdown",
      "source": [
        "Сравнение предсказаний на всей тренировочной выборке"
      ],
      "metadata": {
        "id": "f65_kk0NzQlg"
      }
    },
    {
      "cell_type": "code",
      "source": [
        "model.eval()\n",
        "predictions_train = []\n",
        "actuals_train = []\n",
        "with torch.no_grad():\n",
        "    for batch_X, batch_Y in train_loader:\n",
        "        batch_X = batch_X.reshape(batch_X.size(0), -1)\n",
        "        preds = model(batch_X).squeeze(-1)\n",
        "        predictions_train.extend(preds.numpy())\n",
        "        actuals_train.extend(batch_Y.numpy())"
      ],
      "metadata": {
        "id": "ji6fu41ozTuL"
      },
      "execution_count": 27,
      "outputs": []
    },
    {
      "cell_type": "code",
      "source": [
        "predictions_train = y_scaler.inverse_transform(np.array(predictions_train).reshape(-1, 1)).flatten()\n",
        "actuals_train = y_scaler.inverse_transform(np.array(actuals_train).reshape(-1, 1)).flatten()"
      ],
      "metadata": {
        "id": "qdPIzrxfzY6a"
      },
      "execution_count": 28,
      "outputs": []
    },
    {
      "cell_type": "code",
      "source": [
        "plt.figure(figsize=(10, 6))\n",
        "plt.plot(actuals_train, label='Фактичские данные', color='blue')\n",
        "plt.plot(predictions_train, label='Предсказанные данные', color='red')\n",
        "plt.legend()\n",
        "plt.title(\"Временные ряды N-BEATS в сравнении с результатами испытаний\")\n",
        "plt.show()"
      ],
      "metadata": {
        "colab": {
          "base_uri": "https://localhost:8080/",
          "height": 545
        },
        "id": "5WCoYasPza-f",
        "outputId": "69373c5b-968d-43f5-ee2b-0b76bde3c37d"
      },
      "execution_count": 29,
      "outputs": [
        {
          "output_type": "display_data",
          "data": {
            "text/plain": [
              "<Figure size 1000x600 with 1 Axes>"
            ],
            "image/png": "[encoded data removed]"
          },
          "metadata": {}
        }
      ]
    },
    {
      "cell_type": "markdown",
      "source": [
        "Прогнозирование для df_forecast"
      ],
      "metadata": {
        "id": "OYIshUS2MIup"
      }
    },
    {
      "cell_type": "code",
      "source": [
        "model.eval()"
      ],
      "metadata": {
        "colab": {
          "base_uri": "https://localhost:8080/"
        },
        "id": "VVlu8bdIN2u0",
        "outputId": "9dadeca3-2bb7-49a2-cbea-f6cb1d5e8a09"
      },
      "execution_count": 30,
      "outputs": [
        {
          "output_type": "execute_result",
          "data": {
            "text/plain": [
              "NBeats(\n",
              "  (blocks): ModuleList(\n",
              "    (0-2): 3 x NBeatsBlock(\n",
              "      (fc1): Linear(in_features=20, out_features=128, bias=True)\n",
              "      (fc2): Linear(in_features=128, out_features=128, bias=True)\n",
              "      (fc3): Linear(in_features=128, out_features=128, bias=True)\n",
              "      (fc4): Linear(in_features=128, out_features=1, bias=True)\n",
              "      (relu): ReLU()\n",
              "    )\n",
              "  )\n",
              ")"
            ]
          },
          "metadata": {},
          "execution_count": 30
        }
      ]
    },
    {
      "cell_type": "code",
      "source": [
        "scaler = MinMaxScaler(feature_range=(-1, 1))"
      ],
      "metadata": {
        "id": "dlVusLarN6vR"
      },
      "execution_count": 31,
      "outputs": []
    },
    {
      "cell_type": "code",
      "source": [
        "last_known_value = df_train.drop(columns=[\"date\", \"time_idx\", target_column]).iloc[-1].values\n",
        "X_forecast = df_forecast.drop(columns=[\"date\", \"time_idx\", target_column]).values\n",
        "X_forecast = np.vstack([last_known_value, X_forecast])\n",
        "scaler.fit(X_forecast)\n",
        "X_forecast = scaler.fit_transform(X_forecast)"
      ],
      "metadata": {
        "id": "avawj9BAMJUj"
      },
      "execution_count": 32,
      "outputs": []
    },
    {
      "cell_type": "code",
      "source": [
        "X_forecast[3]"
      ],
      "metadata": {
        "colab": {
          "base_uri": "https://localhost:8080/"
        },
        "id": "umFNuSDGlp5d",
        "outputId": "957e48c0-414c-4296-80d9-8c0666a0edb3"
      },
      "execution_count": 33,
      "outputs": [
        {
          "output_type": "execute_result",
          "data": {
            "text/plain": [
              "array([ 1.        ,  0.77777778,  1.        ,  0.10606061, -0.43586896,\n",
              "       -0.22513056, -0.30040666,  0.10246147, -0.41913043, -0.56748352])"
            ]
          },
          "metadata": {},
          "execution_count": 33
        }
      ]
    },
    {
      "cell_type": "code",
      "source": [
        "forecast_sequence = []\n",
        "for i in range(len(X_forecast) - sequence_length + 1):\n",
        "    forecast_sequence.append(X_forecast[i:i + sequence_length])"
      ],
      "metadata": {
        "id": "9KB99UadMMTL"
      },
      "execution_count": 34,
      "outputs": []
    },
    {
      "cell_type": "code",
      "source": [
        "forecast_sequence = torch.from_numpy(np.array(forecast_sequence)).float()\n",
        "forecast_sequence = forecast_sequence.reshape(forecast_sequence.size(0), -1)"
      ],
      "metadata": {
        "id": "BxN5zjW98sQe"
      },
      "execution_count": 35,
      "outputs": []
    },
    {
      "cell_type": "code",
      "source": [
        "predictions = []\n",
        "with torch.no_grad():\n",
        "    for i in range(forecast_sequence.size(0)):\n",
        "        input_seq = forecast_sequence[i].view(1, -1)\n",
        "        pred = model(input_seq).squeeze(-1)\n",
        "        predictions.append(pred.item())"
      ],
      "metadata": {
        "id": "JuuRKeZ68ue-"
      },
      "execution_count": 36,
      "outputs": []
    },
    {
      "cell_type": "code",
      "source": [
        "predictions = y_scaler.inverse_transform(np.array(predictions).reshape(-1, 1)).flatten()"
      ],
      "metadata": {
        "id": "7FZfbgZVCdLr"
      },
      "execution_count": 37,
      "outputs": []
    },
    {
      "cell_type": "code",
      "source": [
        "len(predictions)"
      ],
      "metadata": {
        "colab": {
          "base_uri": "https://localhost:8080/"
        },
        "id": "Qs8dg_mTCnkP",
        "outputId": "185cb139-cc6d-4941-a4d4-07c3a335511d"
      },
      "execution_count": 38,
      "outputs": [
        {
          "output_type": "execute_result",
          "data": {
            "text/plain": [
              "12"
            ]
          },
          "metadata": {},
          "execution_count": 38
        }
      ]
    },
    {
      "cell_type": "markdown",
      "source": [
        "Добавление прогноза в df_forecast"
      ],
      "metadata": {
        "id": "Vsx74J7tMNxe"
      }
    },
    {
      "cell_type": "code",
      "source": [
        "start_idx = len(df_forecast) - len(predictions)\n",
        "df_forecast.iloc[start_idx:, df_forecast.columns.get_loc(target_column)] = predictions"
      ],
      "metadata": {
        "id": "N7ShnZXoMNWp"
      },
      "execution_count": 39,
      "outputs": []
    },
    {
      "cell_type": "code",
      "source": [
        "df_forecast[target_column].values"
      ],
      "metadata": {
        "colab": {
          "base_uri": "https://localhost:8080/"
        },
        "id": "EbIk8-H3_BRy",
        "outputId": "e22561f9-01e0-4d0d-a0a6-71028354b7cd"
      },
      "execution_count": 40,
      "outputs": [
        {
          "output_type": "execute_result",
          "data": {
            "text/plain": [
              "array([  467294.18350303,   693447.12280333,   427092.09465   ,\n",
              "        1146755.18394613,    93836.39261505,   316993.46688336,\n",
              "         855022.8107779 ,    75177.33732909, -1141799.95600581,\n",
              "         -78111.97538388,  -761998.3152504 , -1299868.6496191 ])"
            ]
          },
          "metadata": {},
          "execution_count": 40
        }
      ]
    },
    {
      "cell_type": "markdown",
      "source": [
        "Построение графика прогнозов"
      ],
      "metadata": {
        "id": "nMi1zUNl82RP"
      }
    },
    {
      "cell_type": "code",
      "source": [
        "len(df_train_grapgh)"
      ],
      "metadata": {
        "colab": {
          "base_uri": "https://localhost:8080/"
        },
        "id": "zTIe1eY6UEvH",
        "outputId": "e2c31743-9391-4f7b-d309-2735e0da93d8"
      },
      "execution_count": 41,
      "outputs": [
        {
          "output_type": "execute_result",
          "data": {
            "text/plain": [
              "72"
            ]
          },
          "metadata": {},
          "execution_count": 41
        }
      ]
    },
    {
      "cell_type": "code",
      "source": [
        "plt.figure(figsize=(10, 6))\n",
        "plt.plot(range(len(df_train_grapgh)), df_train_grapgh, label=\"Реальный данные\", color=\"blue\")\n",
        "plt.plot(range(len(df_train_grapgh), len(df_train_grapgh) + len(predictions)), predictions, label=\"Предсказания\", color=\"red\")\n",
        "plt.legend()\n",
        "plt.title(\"N-BEATS результыты предсказания\")\n",
        "plt.show()"
      ],
      "metadata": {
        "colab": {
          "base_uri": "https://localhost:8080/",
          "height": 545
        },
        "id": "QH8SpFZiMSiw",
        "outputId": "a0aa5589-61fa-47fa-b2a1-510b03eedaea"
      },
      "execution_count": 42,
      "outputs": [
        {
          "output_type": "display_data",
          "data": {
            "text/plain": [
              "<Figure size 1000x600 with 1 Axes>"
            ],
            "image/png": "[encoded data removed]"
          },
          "metadata": {}
        }
      ]
    },
    {
      "cell_type": "code",
      "source": [
        "df_forecast.to_csv(\"forecast_results.csv\", index=False)"
      ],
      "metadata": {
        "id": "1Zta4K6Z85er"
      },
      "execution_count": 43,
      "outputs": []
    }
  ]
}